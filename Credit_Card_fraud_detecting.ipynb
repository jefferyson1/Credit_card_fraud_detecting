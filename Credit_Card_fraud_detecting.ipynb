{
 "cells": [
  {
   "cell_type": "markdown",
   "id": "95a36336",
   "metadata": {
    "id": "95a36336"
   },
   "source": [
    "# Credit Card Fraud Detection\n",
    "```\n",
    "약 28만건의 신용카드 거래 데이터 중에서 이상거래(Fraud)를 감지해내는 프로그램\n",
    "```"
   ]
  },
  {
   "cell_type": "markdown",
   "id": "a179dbf1",
   "metadata": {
    "id": "a179dbf1"
   },
   "source": [
    "# Import\n",
    "- 필요한 라이브러리 및 데이터 셋을 불러옵니다.\n",
    "\n",
    "## Module Import"
   ]
  },
  {
   "cell_type": "code",
   "execution_count": null,
   "id": "a95c2cf7",
   "metadata": {
    "id": "a95c2cf7"
   },
   "outputs": [],
   "source": [
    "import pandas as pd\n",
    "import numpy as np\n",
    "import seaborn as sns\n",
    "import matplotlib.pyplot as plt \n",
    "import tensorflow as tf \n",
    "\n",
    "from sklearn.preprocessing import StandardScaler, MinMaxScaler "
   ]
  },
  {
   "cell_type": "code",
   "execution_count": null,
   "id": "-UhH_-TW-j4T",
   "metadata": {
    "colab": {
     "base_uri": "https://localhost:8080/"
    },
    "executionInfo": {
     "elapsed": 18854,
     "status": "ok",
     "timestamp": 1675234128949,
     "user": {
      "displayName": "jeff Son",
      "userId": "18063717104973062769"
     },
     "user_tz": -540
    },
    "id": "-UhH_-TW-j4T",
    "outputId": "e1e18c18-bd24-40af-f450-f503780d6fdf"
   },
   "outputs": [
    {
     "name": "stdout",
     "output_type": "stream",
     "text": [
      "Mounted at /content/drive\n"
     ]
    }
   ],
   "source": [
    "from google.colab import drive\n",
    "drive.mount('/content/drive')"
   ]
  },
  {
   "cell_type": "markdown",
   "id": "5e21924f",
   "metadata": {
    "id": "5e21924f"
   },
   "source": [
    "## Data Load\n",
    "- Pandas로 csv파일을 불러온 뒤, 데이터의 형태 및 df라는 변수에 데이터가 제대로 저장되었는지 확인해줍니다. "
   ]
  },
  {
   "cell_type": "code",
   "execution_count": null,
   "id": "89b55abb",
   "metadata": {
    "colab": {
     "base_uri": "https://localhost:8080/",
     "height": 318
    },
    "executionInfo": {
     "elapsed": 4748,
     "status": "ok",
     "timestamp": 1675234134704,
     "user": {
      "displayName": "jeff Son",
      "userId": "18063717104973062769"
     },
     "user_tz": -540
    },
    "id": "89b55abb",
    "outputId": "91d6f6cc-e966-47ec-d2f3-7f7c857cca71",
    "scrolled": false
   },
   "outputs": [
    {
     "name": "stdout",
     "output_type": "stream",
     "text": [
      "(284807, 31)\n"
     ]
    },
    {
     "data": {
      "text/html": [
       "\n",
       "  <div id=\"df-d2f5e5ed-e00b-4979-80bb-c067497ada73\">\n",
       "    <div class=\"colab-df-container\">\n",
       "      <div>\n",
       "<style scoped>\n",
       "    .dataframe tbody tr th:only-of-type {\n",
       "        vertical-align: middle;\n",
       "    }\n",
       "\n",
       "    .dataframe tbody tr th {\n",
       "        vertical-align: top;\n",
       "    }\n",
       "\n",
       "    .dataframe thead th {\n",
       "        text-align: right;\n",
       "    }\n",
       "</style>\n",
       "<table border=\"1\" class=\"dataframe\">\n",
       "  <thead>\n",
       "    <tr style=\"text-align: right;\">\n",
       "      <th></th>\n",
       "      <th>Time</th>\n",
       "      <th>V1</th>\n",
       "      <th>V2</th>\n",
       "      <th>V3</th>\n",
       "      <th>V4</th>\n",
       "      <th>V5</th>\n",
       "      <th>V6</th>\n",
       "      <th>V7</th>\n",
       "      <th>V8</th>\n",
       "      <th>V9</th>\n",
       "      <th>...</th>\n",
       "      <th>V21</th>\n",
       "      <th>V22</th>\n",
       "      <th>V23</th>\n",
       "      <th>V24</th>\n",
       "      <th>V25</th>\n",
       "      <th>V26</th>\n",
       "      <th>V27</th>\n",
       "      <th>V28</th>\n",
       "      <th>Amount</th>\n",
       "      <th>Class</th>\n",
       "    </tr>\n",
       "  </thead>\n",
       "  <tbody>\n",
       "    <tr>\n",
       "      <th>0</th>\n",
       "      <td>0.0</td>\n",
       "      <td>-1.359807</td>\n",
       "      <td>-0.072781</td>\n",
       "      <td>2.536347</td>\n",
       "      <td>1.378155</td>\n",
       "      <td>-0.338321</td>\n",
       "      <td>0.462388</td>\n",
       "      <td>0.239599</td>\n",
       "      <td>0.098698</td>\n",
       "      <td>0.363787</td>\n",
       "      <td>...</td>\n",
       "      <td>-0.018307</td>\n",
       "      <td>0.277838</td>\n",
       "      <td>-0.110474</td>\n",
       "      <td>0.066928</td>\n",
       "      <td>0.128539</td>\n",
       "      <td>-0.189115</td>\n",
       "      <td>0.133558</td>\n",
       "      <td>-0.021053</td>\n",
       "      <td>149.619995</td>\n",
       "      <td>0.0</td>\n",
       "    </tr>\n",
       "    <tr>\n",
       "      <th>1</th>\n",
       "      <td>0.0</td>\n",
       "      <td>1.191857</td>\n",
       "      <td>0.266151</td>\n",
       "      <td>0.166480</td>\n",
       "      <td>0.448154</td>\n",
       "      <td>0.060018</td>\n",
       "      <td>-0.082361</td>\n",
       "      <td>-0.078803</td>\n",
       "      <td>0.085102</td>\n",
       "      <td>-0.255425</td>\n",
       "      <td>...</td>\n",
       "      <td>-0.225775</td>\n",
       "      <td>-0.638672</td>\n",
       "      <td>0.101288</td>\n",
       "      <td>-0.339846</td>\n",
       "      <td>0.167170</td>\n",
       "      <td>0.125895</td>\n",
       "      <td>-0.008983</td>\n",
       "      <td>0.014724</td>\n",
       "      <td>2.690000</td>\n",
       "      <td>0.0</td>\n",
       "    </tr>\n",
       "    <tr>\n",
       "      <th>2</th>\n",
       "      <td>1.0</td>\n",
       "      <td>-1.358354</td>\n",
       "      <td>-1.340163</td>\n",
       "      <td>1.773209</td>\n",
       "      <td>0.379780</td>\n",
       "      <td>-0.503198</td>\n",
       "      <td>1.800499</td>\n",
       "      <td>0.791461</td>\n",
       "      <td>0.247676</td>\n",
       "      <td>-1.514654</td>\n",
       "      <td>...</td>\n",
       "      <td>0.247998</td>\n",
       "      <td>0.771679</td>\n",
       "      <td>0.909412</td>\n",
       "      <td>-0.689281</td>\n",
       "      <td>-0.327642</td>\n",
       "      <td>-0.139097</td>\n",
       "      <td>-0.055353</td>\n",
       "      <td>-0.059752</td>\n",
       "      <td>378.660004</td>\n",
       "      <td>0.0</td>\n",
       "    </tr>\n",
       "    <tr>\n",
       "      <th>3</th>\n",
       "      <td>1.0</td>\n",
       "      <td>-0.966272</td>\n",
       "      <td>-0.185226</td>\n",
       "      <td>1.792993</td>\n",
       "      <td>-0.863291</td>\n",
       "      <td>-0.010309</td>\n",
       "      <td>1.247203</td>\n",
       "      <td>0.237609</td>\n",
       "      <td>0.377436</td>\n",
       "      <td>-1.387024</td>\n",
       "      <td>...</td>\n",
       "      <td>-0.108300</td>\n",
       "      <td>0.005274</td>\n",
       "      <td>-0.190321</td>\n",
       "      <td>-1.175575</td>\n",
       "      <td>0.647376</td>\n",
       "      <td>-0.221929</td>\n",
       "      <td>0.062723</td>\n",
       "      <td>0.061458</td>\n",
       "      <td>123.500000</td>\n",
       "      <td>0.0</td>\n",
       "    </tr>\n",
       "    <tr>\n",
       "      <th>4</th>\n",
       "      <td>2.0</td>\n",
       "      <td>-1.158233</td>\n",
       "      <td>0.877737</td>\n",
       "      <td>1.548718</td>\n",
       "      <td>0.403034</td>\n",
       "      <td>-0.407193</td>\n",
       "      <td>0.095921</td>\n",
       "      <td>0.592941</td>\n",
       "      <td>-0.270533</td>\n",
       "      <td>0.817739</td>\n",
       "      <td>...</td>\n",
       "      <td>-0.009431</td>\n",
       "      <td>0.798279</td>\n",
       "      <td>-0.137458</td>\n",
       "      <td>0.141267</td>\n",
       "      <td>-0.206010</td>\n",
       "      <td>0.502292</td>\n",
       "      <td>0.219422</td>\n",
       "      <td>0.215153</td>\n",
       "      <td>69.989998</td>\n",
       "      <td>0.0</td>\n",
       "    </tr>\n",
       "  </tbody>\n",
       "</table>\n",
       "<p>5 rows × 31 columns</p>\n",
       "</div>\n",
       "      <button class=\"colab-df-convert\" onclick=\"convertToInteractive('df-d2f5e5ed-e00b-4979-80bb-c067497ada73')\"\n",
       "              title=\"Convert this dataframe to an interactive table.\"\n",
       "              style=\"display:none;\">\n",
       "        \n",
       "  <svg xmlns=\"http://www.w3.org/2000/svg\" height=\"24px\"viewBox=\"0 0 24 24\"\n",
       "       width=\"24px\">\n",
       "    <path d=\"M0 0h24v24H0V0z\" fill=\"none\"/>\n",
       "    <path d=\"M18.56 5.44l.94 2.06.94-2.06 2.06-.94-2.06-.94-.94-2.06-.94 2.06-2.06.94zm-11 1L8.5 8.5l.94-2.06 2.06-.94-2.06-.94L8.5 2.5l-.94 2.06-2.06.94zm10 10l.94 2.06.94-2.06 2.06-.94-2.06-.94-.94-2.06-.94 2.06-2.06.94z\"/><path d=\"M17.41 7.96l-1.37-1.37c-.4-.4-.92-.59-1.43-.59-.52 0-1.04.2-1.43.59L10.3 9.45l-7.72 7.72c-.78.78-.78 2.05 0 2.83L4 21.41c.39.39.9.59 1.41.59.51 0 1.02-.2 1.41-.59l7.78-7.78 2.81-2.81c.8-.78.8-2.07 0-2.86zM5.41 20L4 18.59l7.72-7.72 1.47 1.35L5.41 20z\"/>\n",
       "  </svg>\n",
       "      </button>\n",
       "      \n",
       "  <style>\n",
       "    .colab-df-container {\n",
       "      display:flex;\n",
       "      flex-wrap:wrap;\n",
       "      gap: 12px;\n",
       "    }\n",
       "\n",
       "    .colab-df-convert {\n",
       "      background-color: #E8F0FE;\n",
       "      border: none;\n",
       "      border-radius: 50%;\n",
       "      cursor: pointer;\n",
       "      display: none;\n",
       "      fill: #1967D2;\n",
       "      height: 32px;\n",
       "      padding: 0 0 0 0;\n",
       "      width: 32px;\n",
       "    }\n",
       "\n",
       "    .colab-df-convert:hover {\n",
       "      background-color: #E2EBFA;\n",
       "      box-shadow: 0px 1px 2px rgba(60, 64, 67, 0.3), 0px 1px 3px 1px rgba(60, 64, 67, 0.15);\n",
       "      fill: #174EA6;\n",
       "    }\n",
       "\n",
       "    [theme=dark] .colab-df-convert {\n",
       "      background-color: #3B4455;\n",
       "      fill: #D2E3FC;\n",
       "    }\n",
       "\n",
       "    [theme=dark] .colab-df-convert:hover {\n",
       "      background-color: #434B5C;\n",
       "      box-shadow: 0px 1px 3px 1px rgba(0, 0, 0, 0.15);\n",
       "      filter: drop-shadow(0px 1px 2px rgba(0, 0, 0, 0.3));\n",
       "      fill: #FFFFFF;\n",
       "    }\n",
       "  </style>\n",
       "\n",
       "      <script>\n",
       "        const buttonEl =\n",
       "          document.querySelector('#df-d2f5e5ed-e00b-4979-80bb-c067497ada73 button.colab-df-convert');\n",
       "        buttonEl.style.display =\n",
       "          google.colab.kernel.accessAllowed ? 'block' : 'none';\n",
       "\n",
       "        async function convertToInteractive(key) {\n",
       "          const element = document.querySelector('#df-d2f5e5ed-e00b-4979-80bb-c067497ada73');\n",
       "          const dataTable =\n",
       "            await google.colab.kernel.invokeFunction('convertToInteractive',\n",
       "                                                     [key], {});\n",
       "          if (!dataTable) return;\n",
       "\n",
       "          const docLinkHtml = 'Like what you see? Visit the ' +\n",
       "            '<a target=\"_blank\" href=https://colab.research.google.com/notebooks/data_table.ipynb>data table notebook</a>'\n",
       "            + ' to learn more about interactive tables.';\n",
       "          element.innerHTML = '';\n",
       "          dataTable['output_type'] = 'display_data';\n",
       "          await google.colab.output.renderOutput(dataTable, element);\n",
       "          const docLink = document.createElement('div');\n",
       "          docLink.innerHTML = docLinkHtml;\n",
       "          element.appendChild(docLink);\n",
       "        }\n",
       "      </script>\n",
       "    </div>\n",
       "  </div>\n",
       "  "
      ],
      "text/plain": [
       "   Time        V1        V2        V3        V4        V5        V6        V7  \\\n",
       "0   0.0 -1.359807 -0.072781  2.536347  1.378155 -0.338321  0.462388  0.239599   \n",
       "1   0.0  1.191857  0.266151  0.166480  0.448154  0.060018 -0.082361 -0.078803   \n",
       "2   1.0 -1.358354 -1.340163  1.773209  0.379780 -0.503198  1.800499  0.791461   \n",
       "3   1.0 -0.966272 -0.185226  1.792993 -0.863291 -0.010309  1.247203  0.237609   \n",
       "4   2.0 -1.158233  0.877737  1.548718  0.403034 -0.407193  0.095921  0.592941   \n",
       "\n",
       "         V8        V9  ...       V21       V22       V23       V24       V25  \\\n",
       "0  0.098698  0.363787  ... -0.018307  0.277838 -0.110474  0.066928  0.128539   \n",
       "1  0.085102 -0.255425  ... -0.225775 -0.638672  0.101288 -0.339846  0.167170   \n",
       "2  0.247676 -1.514654  ...  0.247998  0.771679  0.909412 -0.689281 -0.327642   \n",
       "3  0.377436 -1.387024  ... -0.108300  0.005274 -0.190321 -1.175575  0.647376   \n",
       "4 -0.270533  0.817739  ... -0.009431  0.798279 -0.137458  0.141267 -0.206010   \n",
       "\n",
       "        V26       V27       V28      Amount  Class  \n",
       "0 -0.189115  0.133558 -0.021053  149.619995    0.0  \n",
       "1  0.125895 -0.008983  0.014724    2.690000    0.0  \n",
       "2 -0.139097 -0.055353 -0.059752  378.660004    0.0  \n",
       "3 -0.221929  0.062723  0.061458  123.500000    0.0  \n",
       "4  0.502292  0.219422  0.215153   69.989998    0.0  \n",
       "\n",
       "[5 rows x 31 columns]"
      ]
     },
     "execution_count": 3,
     "metadata": {},
     "output_type": "execute_result"
    }
   ],
   "source": [
    "df = pd.read_csv('/content/drive/My Drive/test/creditcard.csv', delimiter=',', dtype=np.float32)\n",
    "print(df.shape)\n",
    "df.head()"
   ]
  },
  {
   "cell_type": "markdown",
   "id": "87929298",
   "metadata": {
    "id": "87929298"
   },
   "source": [
    "# Data check\n",
    "## Missing value check"
   ]
  },
  {
   "cell_type": "code",
   "execution_count": null,
   "id": "7ea9c414",
   "metadata": {
    "colab": {
     "base_uri": "https://localhost:8080/"
    },
    "executionInfo": {
     "elapsed": 21,
     "status": "ok",
     "timestamp": 1675227344363,
     "user": {
      "displayName": "jeff Son",
      "userId": "18063717104973062769"
     },
     "user_tz": -540
    },
    "id": "7ea9c414",
    "outputId": "0ced14dd-03a6-4570-d443-7eda0b6a4662"
   },
   "outputs": [
    {
     "name": "stdout",
     "output_type": "stream",
     "text": [
      "<class 'pandas.core.frame.DataFrame'>\n",
      "RangeIndex: 284807 entries, 0 to 284806\n",
      "Data columns (total 31 columns):\n",
      " #   Column  Non-Null Count   Dtype  \n",
      "---  ------  --------------   -----  \n",
      " 0   Time    284807 non-null  float32\n",
      " 1   V1      284807 non-null  float32\n",
      " 2   V2      284807 non-null  float32\n",
      " 3   V3      284807 non-null  float32\n",
      " 4   V4      284807 non-null  float32\n",
      " 5   V5      284807 non-null  float32\n",
      " 6   V6      284807 non-null  float32\n",
      " 7   V7      284807 non-null  float32\n",
      " 8   V8      284807 non-null  float32\n",
      " 9   V9      284807 non-null  float32\n",
      " 10  V10     284807 non-null  float32\n",
      " 11  V11     284807 non-null  float32\n",
      " 12  V12     284807 non-null  float32\n",
      " 13  V13     284807 non-null  float32\n",
      " 14  V14     284807 non-null  float32\n",
      " 15  V15     284807 non-null  float32\n",
      " 16  V16     284807 non-null  float32\n",
      " 17  V17     284807 non-null  float32\n",
      " 18  V18     284807 non-null  float32\n",
      " 19  V19     284807 non-null  float32\n",
      " 20  V20     284807 non-null  float32\n",
      " 21  V21     284807 non-null  float32\n",
      " 22  V22     284807 non-null  float32\n",
      " 23  V23     284807 non-null  float32\n",
      " 24  V24     284807 non-null  float32\n",
      " 25  V25     284807 non-null  float32\n",
      " 26  V26     284807 non-null  float32\n",
      " 27  V27     284807 non-null  float32\n",
      " 28  V28     284807 non-null  float32\n",
      " 29  Amount  284807 non-null  float32\n",
      " 30  Class   284807 non-null  float32\n",
      "dtypes: float32(31)\n",
      "memory usage: 33.7 MB\n"
     ]
    }
   ],
   "source": [
    "df.info()"
   ]
  },
  {
   "cell_type": "markdown",
   "id": "d23bceb0",
   "metadata": {
    "id": "d23bceb0"
   },
   "source": [
    "```\n",
    "각 변수에 대해서 missing value가 존재하는지 확인해본 결과, 이 데이터에서는 missing value가 존재하지 않음을 확인할 수 있습니다. \n",
    "만일 missing value가 존재할 경우, count칼럼에 missing value의 숫자가 기록됩니다. \n",
    "\n",
    "또한 데이터 타입과 메모리 사용량도 확인 가능합니다. \n",
    "```"
   ]
  },
  {
   "cell_type": "code",
   "execution_count": null,
   "id": "0885bc51",
   "metadata": {
    "colab": {
     "base_uri": "https://localhost:8080/"
    },
    "executionInfo": {
     "elapsed": 13,
     "status": "ok",
     "timestamp": 1675227344364,
     "user": {
      "displayName": "jeff Son",
      "userId": "18063717104973062769"
     },
     "user_tz": -540
    },
    "id": "0885bc51",
    "outputId": "35aae5d5-7bf8-4a0f-a4e2-1941fd6c5abb"
   },
   "outputs": [
    {
     "data": {
      "text/plain": [
       "Time      0.0\n",
       "V1        0.0\n",
       "V2        0.0\n",
       "V3        0.0\n",
       "V4        0.0\n",
       "V5        0.0\n",
       "V6        0.0\n",
       "V7        0.0\n",
       "V8        0.0\n",
       "V9        0.0\n",
       "V10       0.0\n",
       "V11       0.0\n",
       "V12       0.0\n",
       "V13       0.0\n",
       "V14       0.0\n",
       "V15       0.0\n",
       "V16       0.0\n",
       "V17       0.0\n",
       "V18       0.0\n",
       "V19       0.0\n",
       "V20       0.0\n",
       "V21       0.0\n",
       "V22       0.0\n",
       "V23       0.0\n",
       "V24       0.0\n",
       "V25       0.0\n",
       "V26       0.0\n",
       "V27       0.0\n",
       "V28       0.0\n",
       "Amount    0.0\n",
       "Class     0.0\n",
       "dtype: float64"
      ]
     },
     "execution_count": 8,
     "metadata": {},
     "output_type": "execute_result"
    }
   ],
   "source": [
    "df.isnull().sum() /df.shape[0]"
   ]
  },
  {
   "cell_type": "markdown",
   "id": "eb8b8a1a",
   "metadata": {
    "id": "eb8b8a1a"
   },
   "source": [
    "```\n",
    "만약 missing value가 존재한다면, 몇개의 missing value가 존재하는지 확인해 줍니다. \n",
    "위와 같이 df의 row의 개수로 나누어주면 각 col의 missing value의 비율 또한 알 수 있습니다.\n",
    "\n",
    "missing value의 존재를 확인했다면, 해당 missing value가 존재하는 row를 삭제하거나 적절한 값으로 채워줍니다. \n",
    "여기서 적절한 값을 계산하는 방법은 여러가지가 존재할 수 있으며, 가장 간단하게는 mean이나 median을 사용할 수 있습니다. \n",
    "```"
   ]
  },
  {
   "cell_type": "markdown",
   "id": "8a6c0f04",
   "metadata": {
    "id": "8a6c0f04"
   },
   "source": [
    "## Correlation Visualize\n",
    "```\n",
    "Feature들 사이의 상관관계를 확인해줍니다. \n",
    "Credit card 데이터의 경우에는 이미 한번 PCA를 거친 데이터이므로 Feature들 사이의 상관관계가 매우 낮게 나옵니다. \n",
    "그러나 만약 feature들 간의 상관관계가 높게 나오는 상황을 마주하게 된다면 VIF를 통해서 다중공선성을 확인해주는 것이 좋습니다.\n",
    "```"
   ]
  },
  {
   "cell_type": "code",
   "execution_count": null,
   "id": "f845268f",
   "metadata": {
    "colab": {
     "base_uri": "https://localhost:8080/",
     "height": 643
    },
    "executionInfo": {
     "elapsed": 5415,
     "status": "ok",
     "timestamp": 1675227349770,
     "user": {
      "displayName": "jeff Son",
      "userId": "18063717104973062769"
     },
     "user_tz": -540
    },
    "id": "f845268f",
    "outputId": "fb3e0574-e6ea-4e10-b7d3-bed2104f032a"
   },
   "outputs": [
    {
     "data": {
      "text/plain": [
       "<matplotlib.axes._subplots.AxesSubplot at 0x7f6324d87af0>"
      ]
     },
     "execution_count": 9,
     "metadata": {},
     "output_type": "execute_result"
    },
    {
     "data": {
      "image/png": "[encoded data removed]",
      "text/plain": [
       "<Figure size 1440x720 with 2 Axes>"
      ]
     },
     "metadata": {
      "needs_background": "light"
     },
     "output_type": "display_data"
    }
   ],
   "source": [
    "f, ax = plt.subplots(figsize=(20,10))\n",
    "sns.heatmap(df.corr(), annot=True, linewidth=0.3, fmt='0.2f', ax=ax, cmap='coolwarm')"
   ]
  },
  {
   "cell_type": "markdown",
   "id": "2cd141f2",
   "metadata": {
    "id": "2cd141f2"
   },
   "source": [
    "# EDA (Exploaratory Data Analysis) \n",
    "```\n",
    "데이터의 전체적인 구조를 살펴봅니다.\n",
    "```"
   ]
  },
  {
   "cell_type": "code",
   "execution_count": null,
   "id": "247b63b1",
   "metadata": {
    "colab": {
     "base_uri": "https://localhost:8080/"
    },
    "executionInfo": {
     "elapsed": 54,
     "status": "ok",
     "timestamp": 1675227349771,
     "user": {
      "displayName": "jeff Son",
      "userId": "18063717104973062769"
     },
     "user_tz": -540
    },
    "id": "247b63b1",
    "outputId": "2d89fa44-e903-47de-95c8-6e6f6dabb2d4"
   },
   "outputs": [
    {
     "name": "stdout",
     "output_type": "stream",
     "text": [
      "0.0    284315\n",
      "1.0       492\n",
      "Name: Class, dtype: int64\n",
      "\n",
      "0.0    0.998273\n",
      "1.0    0.001727\n",
      "Name: Class, dtype: float64\n"
     ]
    }
   ],
   "source": [
    "count_classes = pd.value_counts(df['Class'], sort=True)\n",
    "print(count_classes.head())\n",
    "print()\n",
    "\n",
    "print(df['Class'].value_counts(normalize=True))"
   ]
  },
  {
   "cell_type": "markdown",
   "id": "2783123d",
   "metadata": {
    "id": "2783123d"
   },
   "source": [
    "```\n",
    "0.0 : 정상거래, 1.0: 이상거래 \n",
    "\n",
    "정상거래는 28만4315건, 이상거래는 492건이 존재합니다. \n",
    "전체 데이터셋에서 오직 0.0017%가 이상거래이므로 심각한 imbalance가 존재하는 데이터셋임을 파악할 수 있습니다. \n",
    "\n",
    "그러므로 일반적인 상황에서 주로 사용되는 Accuracy를 사용해서 모델의 Performance를 측정하기 어렵다는 결론이 도출됩니다. \n",
    "따라서 모델을 설계할 때 Precision, Recall 그리고 F1 Score를 사용하도록 디자인 해줍니다. \n",
    "```"
   ]
  },
  {
   "cell_type": "code",
   "execution_count": null,
   "id": "1cd667ab",
   "metadata": {
    "colab": {
     "base_uri": "https://localhost:8080/",
     "height": 325
    },
    "executionInfo": {
     "elapsed": 46,
     "status": "ok",
     "timestamp": 1675227349771,
     "user": {
      "displayName": "jeff Son",
      "userId": "18063717104973062769"
     },
     "user_tz": -540
    },
    "id": "1cd667ab",
    "outputId": "1207d98c-7ded-4b7f-c519-24c07b5e289e"
   },
   "outputs": [
    {
     "data": {
      "text/plain": [
       "Text(0.5, 1.0, 'Transaction Class Distribution')"
      ]
     },
     "execution_count": 11,
     "metadata": {},
     "output_type": "execute_result"
    },
    {
     "data": {
      "image/png": "[encoded data removed]",
      "text/plain": [
       "<Figure size 432x288 with 1 Axes>"
      ]
     },
     "metadata": {
      "needs_background": "light"
     },
     "output_type": "display_data"
    }
   ],
   "source": [
    "labels=['Normal', 'Fraud']\n",
    "plt.figure(figsize=(6,4))\n",
    "count_classes.plot(kind='bar')\n",
    "plt.xticks(range(2), labels)\n",
    "plt.title('Transaction Class Distribution')"
   ]
  },
  {
   "cell_type": "markdown",
   "id": "0dce10b0",
   "metadata": {
    "id": "0dce10b0"
   },
   "source": [
    "```\n",
    "Data imbalance가 얼마나 심한지 시각화를 통해 다시 확인해봅니다. \n",
    "```"
   ]
  },
  {
   "cell_type": "code",
   "execution_count": null,
   "id": "519dfbae",
   "metadata": {
    "colab": {
     "base_uri": "https://localhost:8080/",
     "height": 205
    },
    "executionInfo": {
     "elapsed": 6,
     "status": "ok",
     "timestamp": 1675234153006,
     "user": {
      "displayName": "jeff Son",
      "userId": "18063717104973062769"
     },
     "user_tz": -540
    },
    "id": "519dfbae",
    "outputId": "44b0dd16-7f9c-40a8-8867-e2dfe2171c2e"
   },
   "outputs": [
    {
     "data": {
      "text/html": [
       "\n",
       "  <div id=\"df-ddc91c85-fac4-4d10-9db7-7d6523f98623\">\n",
       "    <div class=\"colab-df-container\">\n",
       "      <div>\n",
       "<style scoped>\n",
       "    .dataframe tbody tr th:only-of-type {\n",
       "        vertical-align: middle;\n",
       "    }\n",
       "\n",
       "    .dataframe tbody tr th {\n",
       "        vertical-align: top;\n",
       "    }\n",
       "\n",
       "    .dataframe thead th {\n",
       "        text-align: right;\n",
       "    }\n",
       "</style>\n",
       "<table border=\"1\" class=\"dataframe\">\n",
       "  <thead>\n",
       "    <tr style=\"text-align: right;\">\n",
       "      <th></th>\n",
       "      <th>V1</th>\n",
       "      <th>V2</th>\n",
       "      <th>V3</th>\n",
       "      <th>V4</th>\n",
       "      <th>V5</th>\n",
       "      <th>V6</th>\n",
       "      <th>V7</th>\n",
       "      <th>V8</th>\n",
       "      <th>V9</th>\n",
       "      <th>V10</th>\n",
       "      <th>...</th>\n",
       "      <th>V21</th>\n",
       "      <th>V22</th>\n",
       "      <th>V23</th>\n",
       "      <th>V24</th>\n",
       "      <th>V25</th>\n",
       "      <th>V26</th>\n",
       "      <th>V27</th>\n",
       "      <th>V28</th>\n",
       "      <th>Amount</th>\n",
       "      <th>Class</th>\n",
       "    </tr>\n",
       "  </thead>\n",
       "  <tbody>\n",
       "    <tr>\n",
       "      <th>0</th>\n",
       "      <td>-1.359807</td>\n",
       "      <td>-0.072781</td>\n",
       "      <td>2.536347</td>\n",
       "      <td>1.378155</td>\n",
       "      <td>-0.338321</td>\n",
       "      <td>0.462388</td>\n",
       "      <td>0.239599</td>\n",
       "      <td>0.098698</td>\n",
       "      <td>0.363787</td>\n",
       "      <td>0.090794</td>\n",
       "      <td>...</td>\n",
       "      <td>-0.018307</td>\n",
       "      <td>0.277838</td>\n",
       "      <td>-0.110474</td>\n",
       "      <td>0.066928</td>\n",
       "      <td>0.128539</td>\n",
       "      <td>-0.189115</td>\n",
       "      <td>0.133558</td>\n",
       "      <td>-0.021053</td>\n",
       "      <td>149.619995</td>\n",
       "      <td>0.0</td>\n",
       "    </tr>\n",
       "    <tr>\n",
       "      <th>1</th>\n",
       "      <td>1.191857</td>\n",
       "      <td>0.266151</td>\n",
       "      <td>0.166480</td>\n",
       "      <td>0.448154</td>\n",
       "      <td>0.060018</td>\n",
       "      <td>-0.082361</td>\n",
       "      <td>-0.078803</td>\n",
       "      <td>0.085102</td>\n",
       "      <td>-0.255425</td>\n",
       "      <td>-0.166974</td>\n",
       "      <td>...</td>\n",
       "      <td>-0.225775</td>\n",
       "      <td>-0.638672</td>\n",
       "      <td>0.101288</td>\n",
       "      <td>-0.339846</td>\n",
       "      <td>0.167170</td>\n",
       "      <td>0.125895</td>\n",
       "      <td>-0.008983</td>\n",
       "      <td>0.014724</td>\n",
       "      <td>2.690000</td>\n",
       "      <td>0.0</td>\n",
       "    </tr>\n",
       "  </tbody>\n",
       "</table>\n",
       "<p>2 rows × 30 columns</p>\n",
       "</div>\n",
       "      <button class=\"colab-df-convert\" onclick=\"convertToInteractive('df-ddc91c85-fac4-4d10-9db7-7d6523f98623')\"\n",
       "              title=\"Convert this dataframe to an interactive table.\"\n",
       "              style=\"display:none;\">\n",
       "        \n",
       "  <svg xmlns=\"http://www.w3.org/2000/svg\" height=\"24px\"viewBox=\"0 0 24 24\"\n",
       "       width=\"24px\">\n",
       "    <path d=\"M0 0h24v24H0V0z\" fill=\"none\"/>\n",
       "    <path d=\"M18.56 5.44l.94 2.06.94-2.06 2.06-.94-2.06-.94-.94-2.06-.94 2.06-2.06.94zm-11 1L8.5 8.5l.94-2.06 2.06-.94-2.06-.94L8.5 2.5l-.94 2.06-2.06.94zm10 10l.94 2.06.94-2.06 2.06-.94-2.06-.94-.94-2.06-.94 2.06-2.06.94z\"/><path d=\"M17.41 7.96l-1.37-1.37c-.4-.4-.92-.59-1.43-.59-.52 0-1.04.2-1.43.59L10.3 9.45l-7.72 7.72c-.78.78-.78 2.05 0 2.83L4 21.41c.39.39.9.59 1.41.59.51 0 1.02-.2 1.41-.59l7.78-7.78 2.81-2.81c.8-.78.8-2.07 0-2.86zM5.41 20L4 18.59l7.72-7.72 1.47 1.35L5.41 20z\"/>\n",
       "  </svg>\n",
       "      </button>\n",
       "      \n",
       "  <style>\n",
       "    .colab-df-container {\n",
       "      display:flex;\n",
       "      flex-wrap:wrap;\n",
       "      gap: 12px;\n",
       "    }\n",
       "\n",
       "    .colab-df-convert {\n",
       "      background-color: #E8F0FE;\n",
       "      border: none;\n",
       "      border-radius: 50%;\n",
       "      cursor: pointer;\n",
       "      display: none;\n",
       "      fill: #1967D2;\n",
       "      height: 32px;\n",
       "      padding: 0 0 0 0;\n",
       "      width: 32px;\n",
       "    }\n",
       "\n",
       "    .colab-df-convert:hover {\n",
       "      background-color: #E2EBFA;\n",
       "      box-shadow: 0px 1px 2px rgba(60, 64, 67, 0.3), 0px 1px 3px 1px rgba(60, 64, 67, 0.15);\n",
       "      fill: #174EA6;\n",
       "    }\n",
       "\n",
       "    [theme=dark] .colab-df-convert {\n",
       "      background-color: #3B4455;\n",
       "      fill: #D2E3FC;\n",
       "    }\n",
       "\n",
       "    [theme=dark] .colab-df-convert:hover {\n",
       "      background-color: #434B5C;\n",
       "      box-shadow: 0px 1px 3px 1px rgba(0, 0, 0, 0.15);\n",
       "      filter: drop-shadow(0px 1px 2px rgba(0, 0, 0, 0.3));\n",
       "      fill: #FFFFFF;\n",
       "    }\n",
       "  </style>\n",
       "\n",
       "      <script>\n",
       "        const buttonEl =\n",
       "          document.querySelector('#df-ddc91c85-fac4-4d10-9db7-7d6523f98623 button.colab-df-convert');\n",
       "        buttonEl.style.display =\n",
       "          google.colab.kernel.accessAllowed ? 'block' : 'none';\n",
       "\n",
       "        async function convertToInteractive(key) {\n",
       "          const element = document.querySelector('#df-ddc91c85-fac4-4d10-9db7-7d6523f98623');\n",
       "          const dataTable =\n",
       "            await google.colab.kernel.invokeFunction('convertToInteractive',\n",
       "                                                     [key], {});\n",
       "          if (!dataTable) return;\n",
       "\n",
       "          const docLinkHtml = 'Like what you see? Visit the ' +\n",
       "            '<a target=\"_blank\" href=https://colab.research.google.com/notebooks/data_table.ipynb>data table notebook</a>'\n",
       "            + ' to learn more about interactive tables.';\n",
       "          element.innerHTML = '';\n",
       "          dataTable['output_type'] = 'display_data';\n",
       "          await google.colab.output.renderOutput(dataTable, element);\n",
       "          const docLink = document.createElement('div');\n",
       "          docLink.innerHTML = docLinkHtml;\n",
       "          element.appendChild(docLink);\n",
       "        }\n",
       "      </script>\n",
       "    </div>\n",
       "  </div>\n",
       "  "
      ],
      "text/plain": [
       "         V1        V2        V3        V4        V5        V6        V7  \\\n",
       "0 -1.359807 -0.072781  2.536347  1.378155 -0.338321  0.462388  0.239599   \n",
       "1  1.191857  0.266151  0.166480  0.448154  0.060018 -0.082361 -0.078803   \n",
       "\n",
       "         V8        V9       V10  ...       V21       V22       V23       V24  \\\n",
       "0  0.098698  0.363787  0.090794  ... -0.018307  0.277838 -0.110474  0.066928   \n",
       "1  0.085102 -0.255425 -0.166974  ... -0.225775 -0.638672  0.101288 -0.339846   \n",
       "\n",
       "        V25       V26       V27       V28      Amount  Class  \n",
       "0  0.128539 -0.189115  0.133558 -0.021053  149.619995    0.0  \n",
       "1  0.167170  0.125895 -0.008983  0.014724    2.690000    0.0  \n",
       "\n",
       "[2 rows x 30 columns]"
      ]
     },
     "execution_count": 4,
     "metadata": {},
     "output_type": "execute_result"
    }
   ],
   "source": [
    "df.drop(columns='Time', inplace=True)\n",
    "df.head(2)"
   ]
  },
  {
   "cell_type": "markdown",
   "id": "a339d32f",
   "metadata": {
    "id": "a339d32f"
   },
   "source": [
    "```\n",
    "Time이라는 feature는 단순히 신용카드가 이루어진 순서를 기록한 것이기 때문에 분석에 큰 도움이 되지 않습니다.\n",
    "그러므로 데이터 테이블에서 배제시켜 줍니다.\n",
    "```"
   ]
  },
  {
   "cell_type": "code",
   "execution_count": null,
   "id": "6edc05a5",
   "metadata": {
    "colab": {
     "base_uri": "https://localhost:8080/"
    },
    "executionInfo": {
     "elapsed": 429,
     "status": "ok",
     "timestamp": 1675234158435,
     "user": {
      "displayName": "jeff Son",
      "userId": "18063717104973062769"
     },
     "user_tz": -540
    },
    "id": "6edc05a5",
    "outputId": "464a8ec9-9348-4f55-c3c0-9a0066498c3d"
   },
   "outputs": [
    {
     "name": "stdout",
     "output_type": "stream",
     "text": [
      "(284807, 29) (284807, 1)\n"
     ]
    }
   ],
   "source": [
    "x_data = df.iloc[:,0:-1].values \n",
    "y_data = df.iloc[:,[-1]].values \n",
    "\n",
    "x_data = np.array(x_data, dtype=np.float32)\n",
    "y_data = np.array(y_data, dtype=np.float32)\n",
    "\n",
    "print(x_data.shape, y_data.shape)"
   ]
  },
  {
   "cell_type": "markdown",
   "id": "7646256a",
   "metadata": {
    "id": "7646256a"
   },
   "source": [
    "```\n",
    "Feature들로 이루어진 x_data와, label을 나타내는 y_data로 원본 데이터를 분리시켜 줍니다. \n",
    "분리된 데이터는 앞으로 계산을 해주어야 하기 때문에 동일한 타입의 실수형 데이터로 저장합니다.\n",
    "```"
   ]
  },
  {
   "cell_type": "markdown",
   "id": "e11d5f55",
   "metadata": {
    "id": "e11d5f55"
   },
   "source": [
    "# Data Preprocessing - Normalize"
   ]
  },
  {
   "cell_type": "code",
   "execution_count": null,
   "id": "875f84c5",
   "metadata": {
    "colab": {
     "base_uri": "https://localhost:8080/"
    },
    "executionInfo": {
     "elapsed": 533,
     "status": "ok",
     "timestamp": 1675234163160,
     "user": {
      "displayName": "jeff Son",
      "userId": "18063717104973062769"
     },
     "user_tz": -540
    },
    "id": "875f84c5",
    "outputId": "a5ba82af-ebcb-4ee4-d206-013aefae2a06"
   },
   "outputs": [
    {
     "name": "stdout",
     "output_type": "stream",
     "text": [
      "[[9.3519241e-01 7.6649040e-01 8.8136494e-01 ... 4.1897613e-01\n",
      "  3.1269664e-01 5.8237929e-03]\n",
      " [9.7854203e-01 7.7006662e-01 8.4029853e-01 ... 4.1634512e-01\n",
      "  3.1342265e-01 1.0470528e-04]\n",
      " [9.3521708e-01 7.5311762e-01 8.6814088e-01 ... 4.1548926e-01\n",
      "  3.1191131e-01 1.4738923e-02]\n",
      " ...\n",
      " [9.9090487e-01 7.6407969e-01 7.8110206e-01 ... 4.1659316e-01\n",
      "  3.1258485e-01 2.6421540e-03]\n",
      " [9.5420909e-01 7.7285570e-01 8.4958714e-01 ... 4.1851953e-01\n",
      "  3.1524515e-01 3.8923896e-04]\n",
      " [9.4923186e-01 7.6525640e-01 8.4960151e-01 ... 4.1646636e-01\n",
      "  3.1340083e-01 8.4464857e-03]]\n"
     ]
    }
   ],
   "source": [
    "scaler = MinMaxScaler()\n",
    "x_data = scaler.fit_transform(x_data)\n",
    "print(x_data)"
   ]
  },
  {
   "cell_type": "markdown",
   "id": "95086310",
   "metadata": {
    "id": "95086310"
   },
   "source": [
    "```\n",
    "데이터의 scale에 따라서 결과가 왜곡되는 상황을 방지하기 위해 MinMaxScaler를 통해서 모든 데이터가 0 ~ 1 사이의 값을 지니도록 조정해 줍니다.\n",
    "```"
   ]
  },
  {
   "cell_type": "markdown",
   "id": "2adc3752",
   "metadata": {
    "id": "2adc3752"
   },
   "source": [
    "# Logistic Regression\n",
    "## Parameter Initilization"
   ]
  },
  {
   "cell_type": "code",
   "execution_count": null,
   "id": "68757450",
   "metadata": {
    "id": "68757450"
   },
   "outputs": [],
   "source": [
    "tf.random.set_seed(22) \n",
    "\n",
    "W = tf.Variable(tf.random.normal([29,1], mean=0.0))\n",
    "b = tf.Variable(tf.random.normal([1], mean=0.0))"
   ]
  },
  {
   "cell_type": "markdown",
   "id": "b491feef",
   "metadata": {
    "id": "b491feef"
   },
   "source": [
    "```\n",
    "W: 앞에는 input dimension, 뒤에는 output dimension으로 설정해야 합니다.\n",
    "b: output dimension과 동일하게 설정합니다. \n",
    "```"
   ]
  },
  {
   "cell_type": "markdown",
   "id": "d6503cd1",
   "metadata": {
    "id": "d6503cd1"
   },
   "source": [
    "## Hypothesis Define"
   ]
  },
  {
   "cell_type": "code",
   "execution_count": null,
   "id": "c7e46612",
   "metadata": {
    "id": "c7e46612"
   },
   "outputs": [],
   "source": [
    "def hypothesis(x):\n",
    "    z = tf.matmul(x,W) + b\n",
    "    sigmoid = 1 / (1+tf.exp(-z))\n",
    "    return sigmoid"
   ]
  },
  {
   "cell_type": "markdown",
   "id": "c8da40ed",
   "metadata": {
    "id": "c8da40ed"
   },
   "source": [
    "```\n",
    "Feature과 label 사이의 관계를 정의하는 부분입니다. \n",
    "여기서는 이진분류 문제에 주로 사용되는 Logistic Regression을 hypothesis로 설정해 주었습니다. \n",
    "```"
   ]
  },
  {
   "cell_type": "markdown",
   "id": "3235e313",
   "metadata": {
    "id": "3235e313"
   },
   "source": [
    "## Cost function Define (Loss function)"
   ]
  },
  {
   "cell_type": "code",
   "execution_count": null,
   "id": "7567fc8c",
   "metadata": {
    "id": "7567fc8c"
   },
   "outputs": [],
   "source": [
    "def cost_function(H, Y):\n",
    "    cost = -tf.reduce_mean( Y * tf.math.log(H) + (1-Y)*tf.math.log(1-H))\n",
    "    return cost "
   ]
  },
  {
   "cell_type": "markdown",
   "id": "80aaf2f8",
   "metadata": {
    "id": "80aaf2f8"
   },
   "source": [
    "```\n",
    "여기서는 마찬가지로 이진분류에서 주로 사용되는 Cross Entropy를 cost function으로 설정해 주었습니다. \n",
    "```"
   ]
  },
  {
   "cell_type": "markdown",
   "id": "44d34240",
   "metadata": {
    "id": "44d34240"
   },
   "source": [
    "## Metric Define"
   ]
  },
  {
   "cell_type": "code",
   "execution_count": null,
   "id": "a4f16e16",
   "metadata": {
    "id": "a4f16e16"
   },
   "outputs": [],
   "source": [
    "def accuracy(hypo, label):\n",
    "    predicted = tf.cast( hypo > 0.5, dtype= tf.float32)\n",
    "    accuracyd = tf.reduce_mean(tf.cast(tf.equal(predicted, label), dtype=tf.float32))\n",
    "    return accuracyd "
   ]
  },
  {
   "cell_type": "markdown",
   "id": "8e2f6f59",
   "metadata": {
    "id": "8e2f6f59"
   },
   "source": [
    "```\n",
    "실제 모델의 퍼포먼스를 측정하는 기준을 설정합니다. \n",
    "일반적으로 가장 많이 쓰이는 Accuracy를 우선은 설정해주었습니다. \n",
    "```"
   ]
  },
  {
   "cell_type": "markdown",
   "id": "5a03c337",
   "metadata": {
    "id": "5a03c337"
   },
   "source": [
    "## Hyper-parameter Setting"
   ]
  },
  {
   "cell_type": "code",
   "execution_count": null,
   "id": "d08e64a0",
   "metadata": {
    "id": "d08e64a0"
   },
   "outputs": [],
   "source": [
    "learning_rate = 0.0001\n",
    "optimizer = tf.optimizers.SGD(learning_rate)"
   ]
  },
  {
   "cell_type": "markdown",
   "id": "51bea063",
   "metadata": {
    "id": "51bea063"
   },
   "source": [
    "```\n",
    "학습을 진행하기 위해서 우리가 지정해 주어야 하는 변수를 Hyper-parameter라고 합니다.\n",
    "대표적인 하이퍼 파라미터는 learning rate, optimizer, epochs, actvation function, number of layer, number of neuron 같은 것들이 존재합니다. \n",
    "지금은 딥러닝 모델을 사용하는 것이 아니기 때문에 Logistic Regression 학습에 필요한 learning rate와 optimizer만 설정해 주었습니다.\n",
    "```"
   ]
  },
  {
   "cell_type": "markdown",
   "id": "30c3bf41",
   "metadata": {
    "id": "30c3bf41"
   },
   "source": [
    "## Training"
   ]
  },
  {
   "cell_type": "code",
   "execution_count": null,
   "id": "e3f91d3f",
   "metadata": {
    "colab": {
     "base_uri": "https://localhost:8080/"
    },
    "executionInfo": {
     "elapsed": 49296,
     "status": "ok",
     "timestamp": 1675227401717,
     "user": {
      "displayName": "jeff Son",
      "userId": "18063717104973062769"
     },
     "user_tz": -540
    },
    "id": "e3f91d3f",
    "outputId": "a46c9b07-9cab-40a8-fe55-d658993d2cae"
   },
   "outputs": [
    {
     "name": "stdout",
     "output_type": "stream",
     "text": [
      "step: 0, loss: 0.015813227742910385\n",
      "step: 200, loss: 0.01580575853586197\n",
      "step: 400, loss: 0.015798307955265045\n",
      "step: 600, loss: 0.015790868550539017\n",
      "step: 800, loss: 0.015783440321683884\n",
      "step: 1000, loss: 0.015776026993989944\n",
      "step: 1200, loss: 0.015768621116876602\n",
      "step: 1400, loss: 0.015761228278279305\n",
      "step: 1600, loss: 0.0157538540661335\n",
      "step: 1800, loss: 0.015746500343084335\n",
      "step: 2000, loss: 0.015739159658551216\n"
     ]
    }
   ],
   "source": [
    "for step in range(2022):\n",
    "    with tf.GradientTape() as g: \n",
    "        pred = hypothesis(x_data)\n",
    "        cost = cost_function(pred, y_data)\n",
    "        gradients = g.gradient(cost, [W,b])\n",
    "    optimizer.apply_gradients(zip(gradients, [W,b]))\n",
    "    \n",
    "    if step % 200 == 0:\n",
    "        print(f\"step: {step}, loss: {cost.numpy()}\")\n",
    "        \n",
    "w_hat = W.numpy()\n",
    "b_hat = b.numpy()"
   ]
  },
  {
   "cell_type": "markdown",
   "id": "eed92ff7",
   "metadata": {
    "id": "eed92ff7"
   },
   "source": [
    "```\n",
    "Backpropagation을 통해서 최적의 W와 b를계속해서 업데이트 해줍니다.\n",
    "최종석으로 업데이트된 값을 w_hat과 b_hat에 저장합니다.\n",
    "```"
   ]
  },
  {
   "cell_type": "markdown",
   "id": "eb516997",
   "metadata": {
    "id": "eb516997"
   },
   "source": [
    "## Performance \n",
    "### Accurcay"
   ]
  },
  {
   "cell_type": "code",
   "execution_count": null,
   "id": "842f6387",
   "metadata": {
    "colab": {
     "base_uri": "https://localhost:8080/"
    },
    "executionInfo": {
     "elapsed": 43,
     "status": "ok",
     "timestamp": 1675227401718,
     "user": {
      "displayName": "jeff Son",
      "userId": "18063717104973062769"
     },
     "user_tz": -540
    },
    "id": "842f6387",
    "outputId": "65ce7bf3-75ac-4ff7-e78e-ecdca2fbdab7"
   },
   "outputs": [
    {
     "name": "stdout",
     "output_type": "stream",
     "text": [
      "Accuracy: 0.9982725381851196\n"
     ]
    }
   ],
   "source": [
    "acc = accuracy(hypothesis(x_data), y_data).numpy()\n",
    "print(f'Accuracy: {acc}')"
   ]
  },
  {
   "cell_type": "markdown",
   "id": "df685cb4",
   "metadata": {
    "id": "df685cb4"
   },
   "source": [
    "```\n",
    "99.83%의 상당히 높은 Accuracy를 보입니다.\n",
    "그러나 위에서 살펴본 바에 의하면 data set이 매우 inbalance 했으므로, Accuracy는 모델을 평가하는 적절한 metric가 될 수 없습니다. \n",
    "그러므로 Precision과 Recall의 측면에서 모델을 다시 한번 평가해 봅니다.\n",
    "```"
   ]
  },
  {
   "cell_type": "markdown",
   "id": "c07151c1",
   "metadata": {
    "id": "c07151c1"
   },
   "source": [
    "### Precision, Recall, F1 score\n",
    "- Precision : 모델이 True라고 분류한 것 중에서 실제 True가 차지하는 비중 \n",
    "- Recall : 실제 True 중에서 모델이 True라고 분류한 데이터 비중 \n",
    "- F1 score : Precision과 Recall의 조화평균 "
   ]
  },
  {
   "cell_type": "code",
   "execution_count": null,
   "id": "4d493bba",
   "metadata": {
    "id": "4d493bba"
   },
   "outputs": [],
   "source": [
    "from sklearn.metrics import accuracy_score, classification_report, f1_score, recall_score"
   ]
  },
  {
   "cell_type": "code",
   "execution_count": null,
   "id": "4e4e760e",
   "metadata": {
    "id": "4e4e760e"
   },
   "outputs": [],
   "source": [
    "predicted_x = tf.cast(hypothesis(x_data)> 0.5, dtype= tf.float32)"
   ]
  },
  {
   "cell_type": "code",
   "execution_count": null,
   "id": "c9089c73",
   "metadata": {
    "colab": {
     "base_uri": "https://localhost:8080/"
    },
    "executionInfo": {
     "elapsed": 931,
     "status": "ok",
     "timestamp": 1675227402613,
     "user": {
      "displayName": "jeff Son",
      "userId": "18063717104973062769"
     },
     "user_tz": -540
    },
    "id": "c9089c73",
    "outputId": "0d4c88bc-dbd8-4c10-f162-4a7f1a9582bb"
   },
   "outputs": [
    {
     "name": "stdout",
     "output_type": "stream",
     "text": [
      "Accuracy =  0.9982725143693799\n"
     ]
    },
    {
     "name": "stderr",
     "output_type": "stream",
     "text": [
      "/usr/local/lib/python3.8/dist-packages/sklearn/metrics/_classification.py:1318: UndefinedMetricWarning: Recall and F-score are ill-defined and being set to 0.0 in labels with no true samples. Use `zero_division` parameter to control this behavior.\n",
      "  _warn_prf(average, modifier, msg_start, len(result))\n",
      "/usr/local/lib/python3.8/dist-packages/sklearn/metrics/_classification.py:1318: UndefinedMetricWarning: Recall and F-score are ill-defined and being set to 0.0 in labels with no true samples. Use `zero_division` parameter to control this behavior.\n",
      "  _warn_prf(average, modifier, msg_start, len(result))\n"
     ]
    },
    {
     "name": "stdout",
     "output_type": "stream",
     "text": [
      "Report = \n",
      "               precision    recall  f1-score   support\n",
      "\n",
      "         0.0       1.00      1.00      1.00    284807\n",
      "         1.0       0.00      0.00      0.00         0\n",
      "\n",
      "    accuracy                           1.00    284807\n",
      "   macro avg       0.50      0.50      0.50    284807\n",
      "weighted avg       1.00      1.00      1.00    284807\n",
      "\n"
     ]
    },
    {
     "name": "stderr",
     "output_type": "stream",
     "text": [
      "/usr/local/lib/python3.8/dist-packages/sklearn/metrics/_classification.py:1318: UndefinedMetricWarning: Recall and F-score are ill-defined and being set to 0.0 in labels with no true samples. Use `zero_division` parameter to control this behavior.\n",
      "  _warn_prf(average, modifier, msg_start, len(result))\n"
     ]
    }
   ],
   "source": [
    "print('Accuracy = ', accuracy_score(predicted_x, y_data))\n",
    "print('Report = \\n', classification_report(predicted_x, y_data))"
   ]
  },
  {
   "cell_type": "markdown",
   "id": "60e029d4",
   "metadata": {
    "id": "60e029d4"
   },
   "source": [
    "```\n",
    "대안적인 metric의 관점에서 Logistic Regression 모델을 평가해 봤을 때, Fraud transaction을 거의 잡아내지 못하는 것을 알 수 있습니다. \n",
    "그러므로 다른 모델을 통해서 접근해야 된다는 결론을 낼 수 있습니다. \n",
    "```"
   ]
  },
  {
   "cell_type": "markdown",
   "id": "55d069dc",
   "metadata": {
    "id": "55d069dc"
   },
   "source": [
    "# Neural Networks\n",
    "```\n",
    "이번엔 인공신경망 모델을 통해 Fraud transaction을 잡아보고자 합니다.\n",
    "```\n",
    "## Module Import"
   ]
  },
  {
   "cell_type": "code",
   "execution_count": null,
   "id": "288337a5",
   "metadata": {
    "id": "288337a5"
   },
   "outputs": [],
   "source": [
    "from tensorflow.keras.models import Sequential \n",
    "from tensorflow.keras.layers import Dense, BatchNormalization, Dropout\n",
    "from sklearn.model_selection import train_test_split \n",
    "from keras import optimizers, metrics, callbacks"
   ]
  },
  {
   "cell_type": "markdown",
   "id": "214eaae5",
   "metadata": {
    "id": "214eaae5"
   },
   "source": [
    "## Dataset Split\n",
    "```\n",
    "학습에 사용할 training set과 퍼포먼스 측정에 사용할 test set을 나누어주는데, 데이터가 많으므로 8:2의 비율로 나누어 줍니다. \n",
    "```"
   ]
  },
  {
   "cell_type": "code",
   "execution_count": null,
   "id": "a2581768",
   "metadata": {
    "colab": {
     "base_uri": "https://localhost:8080/"
    },
    "executionInfo": {
     "elapsed": 285,
     "status": "ok",
     "timestamp": 1675234202740,
     "user": {
      "displayName": "jeff Son",
      "userId": "18063717104973062769"
     },
     "user_tz": -540
    },
    "id": "a2581768",
    "outputId": "ed576e33-3686-47e5-aa42-5194e46f1ecf"
   },
   "outputs": [
    {
     "name": "stdout",
     "output_type": "stream",
     "text": [
      "(227845, 29) (227845, 1)\n",
      "(56962, 29) (56962, 1)\n"
     ]
    }
   ],
   "source": [
    "x_train, x_test, y_train, y_test= train_test_split(x_data, y_data, test_size=0.20, random_state=22)\n",
    "\n",
    "print(x_train.shape, y_train.shape)\n",
    "print(x_test.shape, y_test.shape)"
   ]
  },
  {
   "cell_type": "markdown",
   "id": "5bf838a4",
   "metadata": {
    "id": "5bf838a4"
   },
   "source": [
    "## Model build\n",
    "```\n",
    "적절한 ANN 모델을 만들어 줍니다. \n",
    "\n",
    "Input Layer에는 항상 input data의 dimension에 따라 그에 맞는 input_shape을 지정 해주어야합니다. \n",
    "Hidden Layer 사이의 activation function으로는 ReLu를 기본적으로 사용했으며, 이진 분류의 문제이므로 Output Layer에는 activation function을 sigmoid로 지정했습니다.\n",
    "\n",
    "Hidden Layer마다 drop out을 적용해서 overfitting을 방지하도록 하고, Batch normalization도 적용해줌으로써 학습이 보다 빠르고 안정적으로 진행되게끔 유도합니다.\n",
    "\n",
    "Hidden Layer를 지날수록 점차 neuron의 수를 줄게하여 정보가 압축되도록 설계되었고, Output Layer 직전의 Hidden Layer에서는 activation function으로 softmax를 사용했습니다.\n",
    "```"
   ]
  },
  {
   "cell_type": "code",
   "execution_count": null,
   "id": "6e2eef7a",
   "metadata": {
    "colab": {
     "base_uri": "https://localhost:8080/"
    },
    "executionInfo": {
     "elapsed": 432,
     "status": "ok",
     "timestamp": 1675227403039,
     "user": {
      "displayName": "jeff Son",
      "userId": "18063717104973062769"
     },
     "user_tz": -540
    },
    "id": "6e2eef7a",
    "outputId": "69005b92-f71c-47d2-bf1b-250e3333e440"
   },
   "outputs": [
    {
     "name": "stdout",
     "output_type": "stream",
     "text": [
      "Model: \"sequential\"\n",
      "_________________________________________________________________\n",
      " Layer (type)                Output Shape              Param #   \n",
      "=================================================================\n",
      " dense (Dense)               (None, 400)               12000     \n",
      "                                                                 \n",
      " batch_normalization (BatchN  (None, 400)              1600      \n",
      " ormalization)                                                   \n",
      "                                                                 \n",
      " dropout (Dropout)           (None, 400)               0         \n",
      "                                                                 \n",
      " dense_1 (Dense)             (None, 200)               80200     \n",
      "                                                                 \n",
      " batch_normalization_1 (Batc  (None, 200)              800       \n",
      " hNormalization)                                                 \n",
      "                                                                 \n",
      " dropout_1 (Dropout)         (None, 200)               0         \n",
      "                                                                 \n",
      " dense_2 (Dense)             (None, 100)               20100     \n",
      "                                                                 \n",
      " batch_normalization_2 (Batc  (None, 100)              400       \n",
      " hNormalization)                                                 \n",
      "                                                                 \n",
      " dropout_2 (Dropout)         (None, 100)               0         \n",
      "                                                                 \n",
      " dense_3 (Dense)             (None, 50)                5050      \n",
      "                                                                 \n",
      " batch_normalization_3 (Batc  (None, 50)               200       \n",
      " hNormalization)                                                 \n",
      "                                                                 \n",
      " dropout_3 (Dropout)         (None, 50)                0         \n",
      "                                                                 \n",
      " dense_4 (Dense)             (None, 24)                1224      \n",
      "                                                                 \n",
      " batch_normalization_4 (Batc  (None, 24)               96        \n",
      " hNormalization)                                                 \n",
      "                                                                 \n",
      " dropout_4 (Dropout)         (None, 24)                0         \n",
      "                                                                 \n",
      " dense_5 (Dense)             (None, 12)                300       \n",
      "                                                                 \n",
      " batch_normalization_5 (Batc  (None, 12)               48        \n",
      " hNormalization)                                                 \n",
      "                                                                 \n",
      " dropout_5 (Dropout)         (None, 12)                0         \n",
      "                                                                 \n",
      " dense_6 (Dense)             (None, 6)                 78        \n",
      "                                                                 \n",
      " batch_normalization_6 (Batc  (None, 6)                24        \n",
      " hNormalization)                                                 \n",
      "                                                                 \n",
      " dropout_6 (Dropout)         (None, 6)                 0         \n",
      "                                                                 \n",
      " dense_7 (Dense)             (None, 1)                 7         \n",
      "                                                                 \n",
      "=================================================================\n",
      "Total params: 122,127\n",
      "Trainable params: 120,543\n",
      "Non-trainable params: 1,584\n",
      "_________________________________________________________________\n"
     ]
    }
   ],
   "source": [
    "model = Sequential([\n",
    "    Dense(400, activation='relu', input_dim=29),\n",
    "    BatchNormalization(),\n",
    "    Dropout(0.5),\n",
    "    Dense(200, activation='relu'), \n",
    "    BatchNormalization(),\n",
    "    Dropout(0.4),\n",
    "    Dense(100, activation='relu'), \n",
    "    BatchNormalization(),\n",
    "    Dropout(0.4),\n",
    "    Dense(50, activation='relu'), \n",
    "    BatchNormalization(),\n",
    "    Dropout(0.4),\n",
    "    Dense(24, activation='relu'), \n",
    "    BatchNormalization(),\n",
    "    Dropout(0.5),\n",
    "    Dense(12, activation='relu'), \n",
    "    BatchNormalization(),\n",
    "    Dropout(0.5),\n",
    "    Dense(6, activation='softmax'), \n",
    "    BatchNormalization(),\n",
    "    Dropout(0.5),\n",
    "    Dense(1, activation='sigmoid')\n",
    "]) \n",
    "\n",
    "model.summary()"
   ]
  },
  {
   "cell_type": "markdown",
   "id": "e7116e15",
   "metadata": {
    "id": "e7116e15"
   },
   "source": [
    "## Model compile"
   ]
  },
  {
   "cell_type": "code",
   "execution_count": null,
   "id": "80ffbecc",
   "metadata": {
    "id": "80ffbecc"
   },
   "outputs": [],
   "source": [
    "model.compile(optimizer = optimizers.Adam(1e-4),\n",
    "             loss = 'binary_crossentropy',\n",
    "             metrics = [metrics.Recall(name='recall'),\n",
    "                        metrics.Precision(name='precision')])"
   ]
  },
  {
   "cell_type": "code",
   "execution_count": null,
   "id": "873d264f",
   "metadata": {
    "id": "873d264f"
   },
   "outputs": [],
   "source": [
    "from tensorflow.keras.callbacks import EarlyStopping\n",
    "from tensorflow.keras.callbacks import ModelCheckpoint"
   ]
  },
  {
   "cell_type": "markdown",
   "id": "aedf3117",
   "metadata": {
    "id": "aedf3117"
   },
   "source": [
    "```\n",
    "모델을 학습하는데에 필요한 하이퍼 파라미터들을 지정해줍니다. \n",
    "SGD의 단점을 보안한 adam를 optimizer로, \n",
    "loss function으로는 이진분류에 적합한 binary_crossentropy로 설정했습니다. \n",
    "또한, Data imbalance가 심하므로 성능평가로는 accuracy 대신 recall, precision, f_score 등을 사용해줍니다. \n",
    "```"
   ]
  },
  {
   "cell_type": "markdown",
   "id": "f3e5bc04",
   "metadata": {
    "id": "f3e5bc04"
   },
   "source": [
    "## Training"
   ]
  },
  {
   "cell_type": "code",
   "execution_count": null,
   "id": "01b6b721",
   "metadata": {
    "colab": {
     "base_uri": "https://localhost:8080/"
    },
    "executionInfo": {
     "elapsed": 392,
     "status": "ok",
     "timestamp": 1675227403427,
     "user": {
      "displayName": "jeff Son",
      "userId": "18063717104973062769"
     },
     "user_tz": -540
    },
    "id": "01b6b721",
    "outputId": "d1b537b8-32d1-4346-d36c-b74a80c1e85b"
   },
   "outputs": [
    {
     "name": "stdout",
     "output_type": "stream",
     "text": [
      "(182276, 29) (182276, 1)\n",
      "(45569, 29) (45569, 1)\n",
      "(56962, 29) (56962, 1)\n"
     ]
    }
   ],
   "source": [
    "x_train, x_validate, y_train, y_validate = train_test_split(x_train, y_train, test_size = 0.2, random_state=22)\n",
    "\n",
    "print(x_train.shape, y_train.shape)\n",
    "print(x_validate.shape, y_validate.shape)\n",
    "print(x_test.shape, y_test.shape)"
   ]
  },
  {
   "cell_type": "markdown",
   "id": "257e1e1c",
   "metadata": {
    "id": "257e1e1c"
   },
   "source": [
    "```\n",
    "EarlyStopping 사용을 위해 validate set을 만들어주었습니다. \n",
    "해당 셋은 기존 training set에서 다시 8:2로 나누었습니다.\n",
    "```"
   ]
  },
  {
   "cell_type": "code",
   "execution_count": null,
   "id": "5c0257c2",
   "metadata": {
    "id": "5c0257c2"
   },
   "outputs": [],
   "source": [
    "checkpoint_cd = ModelCheckpoint('best_model.h5')\n",
    "earlystopping_cd = EarlyStopping(patience = 200, monitor='val_loss', mode='min')"
   ]
  },
  {
   "cell_type": "markdown",
   "id": "85c86442",
   "metadata": {
    "id": "85c86442"
   },
   "source": [
    "```\n",
    "200번 이상 val_loss 값에 개선이 없을 경우, 종료 시켜줄 예정입니다.\n",
    "또한, val_loss는 적을 수록 좋은 값이므로 mode를 min으로 설정해줍니다.\n",
    "```"
   ]
  },
  {
   "cell_type": "code",
   "execution_count": null,
   "id": "f5fd5b3f",
   "metadata": {
    "colab": {
     "base_uri": "https://localhost:8080/"
    },
    "executionInfo": {
     "elapsed": 1474508,
     "status": "ok",
     "timestamp": 1675228877930,
     "user": {
      "displayName": "jeff Son",
      "userId": "18063717104973062769"
     },
     "user_tz": -540
    },
    "id": "f5fd5b3f",
    "outputId": "7b07a7b5-4e7b-489f-e9b8-84c1821afb5f",
    "scrolled": true
   },
   "outputs": [
    {
     "name": "stdout",
     "output_type": "stream",
     "text": [
      "1781/1781 [==============================] - 7s 4ms/step - loss: 0.0036 - recall: 0.6559 - precision: 1.0000\n",
      "[0.0036312018055468798, 0.6559139490127563, 1.0]\n"
     ]
    }
   ],
   "source": [
    "history = model.fit(x_train, y_train, validation_data = (x_validate, y_validate), batch_size = 64000, epochs = 10000, verbose=0,\n",
    "                    callbacks = [checkpoint_cd, earlystopping_cd])\n",
    "\n",
    "score = model.evaluate(x_test, y_test)\n",
    "print(score)"
   ]
  },
  {
   "cell_type": "markdown",
   "id": "c9dbf7ca",
   "metadata": {
    "id": "c9dbf7ca"
   },
   "source": [
    "### Training Visualization"
   ]
  },
  {
   "cell_type": "code",
   "execution_count": null,
   "id": "f5dcd999",
   "metadata": {
    "colab": {
     "base_uri": "https://localhost:8080/",
     "height": 625
    },
    "executionInfo": {
     "elapsed": 969,
     "status": "ok",
     "timestamp": 1675228878864,
     "user": {
      "displayName": "jeff Son",
      "userId": "18063717104973062769"
     },
     "user_tz": -540
    },
    "id": "f5dcd999",
    "outputId": "fc0aaa45-c095-4c5e-b6df-30f81fffdbad"
   },
   "outputs": [
    {
     "data": {
      "text/plain": [
       "<matplotlib.legend.Legend at 0x7f62a4555910>"
      ]
     },
     "execution_count": 33,
     "metadata": {},
     "output_type": "execute_result"
    },
    {
     "data": {
      "image/png": "[encoded data removed]",
      "text/plain": [
       "<Figure size 1440x720 with 3 Axes>"
      ]
     },
     "metadata": {
      "needs_background": "light"
     },
     "output_type": "display_data"
    }
   ],
   "source": [
    "plt.figure(figsize = (20,10))\n",
    "\n",
    "plt.subplot(311)\n",
    "plt.plot(history.history[\"loss\"], label = \"Loss\")\n",
    "plt.plot(history.history[\"val_loss\"], label = \"Val_Loss\")\n",
    "plt.title(\"Training Loss & Validate Loss\")\n",
    "plt.legend()\n",
    "\n",
    "plt.subplot(312)\n",
    "plt.plot(history.history[\"precision\"], label = \"Precision\")\n",
    "plt.plot(history.history[\"val_precision\"], label = \"Val_Precision\")\n",
    "plt.title(\"Training Precision & Validate Precision\")\n",
    "plt.legend()\n",
    "\n",
    "plt.subplot(313)\n",
    "plt.plot(history.history[\"recall\"], label = \"Recall\")\n",
    "plt.plot(history.history[\"val_recall\"], label = \"Val_Recall\")\n",
    "plt.title(\"Training Recall & Validate Recall\")\n",
    "plt.legend()"
   ]
  },
  {
   "cell_type": "markdown",
   "id": "1a89df93",
   "metadata": {
    "id": "1a89df93"
   },
   "source": [
    "## ANN Performance\n",
    "### Precision, Recall, F1 score"
   ]
  },
  {
   "cell_type": "code",
   "execution_count": null,
   "id": "9dfbd0f1",
   "metadata": {
    "colab": {
     "base_uri": "https://localhost:8080/"
    },
    "executionInfo": {
     "elapsed": 4715,
     "status": "ok",
     "timestamp": 1675228883563,
     "user": {
      "displayName": "jeff Son",
      "userId": "18063717104973062769"
     },
     "user_tz": -540
    },
    "id": "9dfbd0f1",
    "outputId": "d93a059d-f7ce-41c7-f992-30f394e9cc15"
   },
   "outputs": [
    {
     "name": "stdout",
     "output_type": "stream",
     "text": [
      "1781/1781 [==============================] - 4s 2ms/step\n",
      "Report = \n",
      "               precision    recall  f1-score   support\n",
      "\n",
      "         0.0       1.00      1.00      1.00     56901\n",
      "         1.0       0.66      1.00      0.79        61\n",
      "\n",
      "    accuracy                           1.00     56962\n",
      "   macro avg       0.83      1.00      0.90     56962\n",
      "weighted avg       1.00      1.00      1.00     56962\n",
      "\n"
     ]
    }
   ],
   "source": [
    "predicted_ANN = tf.cast( model.predict(x_test) > 0.5, dtype = tf.float32)\n",
    "print(\"Report = \\n\", classification_report(predicted_ANN, y_test))"
   ]
  },
  {
   "cell_type": "markdown",
   "id": "FdQ9F1OtB6Wl",
   "metadata": {
    "id": "FdQ9F1OtB6Wl"
   },
   "source": [
    "```\n",
    "회사의 입장에서보면, 신용카드의 부정 사용인데 부정 사용이 아니라고 예측하면 더 손해가 크다고 생각해 \n",
    "Recall의 점수의 중요도가 더 높다고 생각했습니다. \n",
    "고로 Recall과 F1 score을 높이는 것을 목표로 모델링 했습니다. \n",
    "\n",
    "그 결과, Recall은 1.0 , f1-score는 0.79로 앞전의 Logistic Regression 보다 훨씬 성능이 좋음을 알 수 있습니다.\n",
    "```"
   ]
  },
  {
   "cell_type": "markdown",
   "id": "5cdcc572",
   "metadata": {
    "id": "5cdcc572"
   },
   "source": [
    "# Other Machine Learning Method\n",
    "```\n",
    "다른 Machine learning method는 EarlyStopping을 사용하지 않으므로 validation set을 없애고 오로지 training set과 test set으로만 나눕니다.\n",
    "```"
   ]
  },
  {
   "cell_type": "code",
   "execution_count": null,
   "id": "d1c0db86",
   "metadata": {
    "colab": {
     "base_uri": "https://localhost:8080/"
    },
    "executionInfo": {
     "elapsed": 36,
     "status": "ok",
     "timestamp": 1675228883564,
     "user": {
      "displayName": "jeff Son",
      "userId": "18063717104973062769"
     },
     "user_tz": -540
    },
    "id": "d1c0db86",
    "outputId": "2635c42d-17c0-4b37-efd2-afef5bbc4527"
   },
   "outputs": [
    {
     "name": "stdout",
     "output_type": "stream",
     "text": [
      "(227845, 29) (227845, 1)\n",
      "(56962, 29) (56962, 1)\n"
     ]
    }
   ],
   "source": [
    "x_train, x_test, y_train, y_test= train_test_split(x_data, y_data, test_size=0.20, random_state=22)\n",
    "\n",
    "print(x_train.shape, y_train.shape)\n",
    "print(x_test.shape, y_test.shape)"
   ]
  },
  {
   "cell_type": "markdown",
   "id": "a340182b",
   "metadata": {
    "id": "a340182b"
   },
   "source": [
    "## bagging\n",
    "```\n",
    "여러개의 decision tree를 그리게 되면, overfitting 현상을 줄여줄 수 있으므로 bagging을 해줍니다.\n",
    "```"
   ]
  },
  {
   "cell_type": "markdown",
   "id": "pj2kI6Ra9F22",
   "metadata": {
    "id": "pj2kI6Ra9F22"
   },
   "source": [
    "### RandomForest"
   ]
  },
  {
   "cell_type": "markdown",
   "id": "37f99359",
   "metadata": {
    "id": "37f99359"
   },
   "source": [
    "```\n",
    "Bagging의 대표적인 예시인 RandomForest를 사용합니다.\n",
    "```"
   ]
  },
  {
   "cell_type": "markdown",
   "id": "2758cf8b",
   "metadata": {
    "id": "2758cf8b"
   },
   "source": [
    "#### Training & Performance"
   ]
  },
  {
   "cell_type": "code",
   "execution_count": null,
   "id": "f5ae5db0",
   "metadata": {
    "colab": {
     "base_uri": "https://localhost:8080/"
    },
    "executionInfo": {
     "elapsed": 552148,
     "status": "ok",
     "timestamp": 1675229435686,
     "user": {
      "displayName": "jeff Son",
      "userId": "18063717104973062769"
     },
     "user_tz": -540
    },
    "id": "f5ae5db0",
    "outputId": "74291da8-54a7-459f-e48f-1076482ec3d3"
   },
   "outputs": [
    {
     "name": "stderr",
     "output_type": "stream",
     "text": [
      "<ipython-input-36-6559cd67dd8a>:4: DataConversionWarning: A column-vector y was passed when a 1d array was expected. Please change the shape of y to (n_samples,), for example using ravel().\n",
      "  rf_clf.fit(x_train, y_train)\n"
     ]
    },
    {
     "name": "stdout",
     "output_type": "stream",
     "text": [
      "Report = \n",
      "               precision    recall  f1-score   support\n",
      "\n",
      "         0.0       1.00      1.00      1.00     56883\n",
      "         1.0       0.82      0.96      0.88        79\n",
      "\n",
      "    accuracy                           1.00     56962\n",
      "   macro avg       0.91      0.98      0.94     56962\n",
      "weighted avg       1.00      1.00      1.00     56962\n",
      "\n"
     ]
    }
   ],
   "source": [
    "from sklearn.ensemble import RandomForestClassifier\n",
    "rf_clf = RandomForestClassifier(random_state=22, n_estimators=300, verbose=0)       \n",
    "\n",
    "rf_clf.fit(x_train, y_train)\n",
    "\n",
    "rf_pred= tf.cast(rf_clf.predict(x_test) > 0.5, dtype = tf.float32)\n",
    "print(\"Report = \\n\", classification_report(rf_pred, y_test))"
   ]
  },
  {
   "cell_type": "markdown",
   "id": "2vWkTD7IDULP",
   "metadata": {
    "id": "2vWkTD7IDULP"
   },
   "source": [
    "```\n",
    "처음에는 Random으로 max_depth, n_iter 등의 parameter들을 모두 랜덤으로 설정하고 여러 모델들을 학습하여 \n",
    "최선의 parameter까지 도출하는 반복문으로 진행했으나 \n",
    "그 결과, 시간이 너무 많이 소요되었고, 소비되는 시간 대비 그만큼의 기능 개선은 이루어지지 않아 효율적이지 못한다는 판단 하에 \n",
    "random_state, n_estimator(트리의 개수) 정도만 지정하고 학습을 진행했습니다. \n",
    "\n",
    "그 결과, ANN 모델에 비해 recall점수는 0.96점으로 떨어졌으나 f1-score 면에서는 ANN보다 성능이 더 좋음을 확인할 수 있습니다.\n",
    "```"
   ]
  },
  {
   "cell_type": "markdown",
   "id": "ac2ab803",
   "metadata": {
    "id": "ac2ab803"
   },
   "source": [
    "## Boosting\n",
    "```\n",
    "Gradient Boosting이란 이전 학습의 결과에서 나온 오차를 다음 학습에 전달해 이전의 오차를 점진적으로 개선하는 기법입니다. \n",
    "하지만 이는 잔차를 거의 0이 될때까지 학습시켜 overfitting될 위험성이 높습니다. \n",
    "그리하여 이를 보완하는 알고리즘들을 사용할 것 입니다.\n",
    "```"
   ]
  },
  {
   "cell_type": "markdown",
   "id": "XsNdPNam9d48",
   "metadata": {
    "id": "XsNdPNam9d48"
   },
   "source": [
    "### XGBoost\n",
    "```\n",
    "GBM에서 파생된 트리 기반의 앙상블 학습방법입니다. \n",
    "병렬 학습이 가능해 GBM 대비 학습시간이 적게 걸리고 \n",
    "과적합 규제(Regularization), 나무 가지치기(Tree pruning), 조기중단(Early stopping)등 성능 향셍에 필요한 기능들이 탑재되어 있습니다.\n",
    "```"
   ]
  },
  {
   "cell_type": "markdown",
   "id": "R2idvFSd97c3",
   "metadata": {
    "id": "R2idvFSd97c3"
   },
   "source": [
    "#### Training & Performance"
   ]
  },
  {
   "cell_type": "code",
   "execution_count": null,
   "id": "a83899bd",
   "metadata": {
    "colab": {
     "base_uri": "https://localhost:8080/"
    },
    "executionInfo": {
     "elapsed": 217531,
     "status": "ok",
     "timestamp": 1675229657105,
     "user": {
      "displayName": "jeff Son",
      "userId": "18063717104973062769"
     },
     "user_tz": -540
    },
    "id": "a83899bd",
    "outputId": "7b14013f-8737-4eb3-c1aa-4404ee1022a2"
   },
   "outputs": [
    {
     "name": "stderr",
     "output_type": "stream",
     "text": [
      "/usr/local/lib/python3.8/dist-packages/sklearn/preprocessing/_label.py:98: DataConversionWarning: A column-vector y was passed when a 1d array was expected. Please change the shape of y to (n_samples, ), for example using ravel().\n",
      "  y = column_or_1d(y, warn=True)\n",
      "/usr/local/lib/python3.8/dist-packages/sklearn/preprocessing/_label.py:133: DataConversionWarning: A column-vector y was passed when a 1d array was expected. Please change the shape of y to (n_samples, ), for example using ravel().\n",
      "  y = column_or_1d(y, warn=True)\n"
     ]
    },
    {
     "name": "stdout",
     "output_type": "stream",
     "text": [
      "Report = \n",
      "               precision    recall  f1-score   support\n",
      "\n",
      "         0.0       1.00      1.00      1.00     56880\n",
      "         1.0       0.84      0.95      0.89        82\n",
      "\n",
      "    accuracy                           1.00     56962\n",
      "   macro avg       0.92      0.98      0.95     56962\n",
      "weighted avg       1.00      1.00      1.00     56962\n",
      "\n"
     ]
    }
   ],
   "source": [
    "from xgboost import XGBClassifier\n",
    "\n",
    "xgboost_clf = XGBClassifier(randon_state=22, n_estimators=400, reg_lambda=1)\n",
    "xgboost_clf.fit(x_train, y_train, eval_metric='logloss')\n",
    "\n",
    "xg_pred = tf.cast( xgboost_clf.predict(x_test) > 0.5, dtype = tf.float32)\n",
    "print(\"Report = \\n\", classification_report(xg_pred, y_test))     "
   ]
  },
  {
   "cell_type": "markdown",
   "id": "u6pePkZ79kgs",
   "metadata": {
    "id": "u6pePkZ79kgs"
   },
   "source": [
    "### LightGBM\n",
    "```\n",
    "GBM에서 파생된 트리 기반의 앙상블 학습 방법입니다.\n",
    "XGBoost와 GBM에 비해 학습에 걸리는 시간이 훨씬 적지만 성능 면에서는 큰차이가 없다는 장점이 있습니다.\n",
    "```"
   ]
  },
  {
   "cell_type": "markdown",
   "id": "dK1UBH_j-AVf",
   "metadata": {
    "id": "dK1UBH_j-AVf"
   },
   "source": [
    "#### Training & Performance"
   ]
  },
  {
   "cell_type": "code",
   "execution_count": null,
   "id": "03_wt7QIVPj9",
   "metadata": {
    "colab": {
     "base_uri": "https://localhost:8080/"
    },
    "executionInfo": {
     "elapsed": 36172,
     "status": "ok",
     "timestamp": 1675229693242,
     "user": {
      "displayName": "jeff Son",
      "userId": "18063717104973062769"
     },
     "user_tz": -540
    },
    "id": "03_wt7QIVPj9",
    "outputId": "deb44c3f-9b80-4ab9-90bd-ffffec4173aa"
   },
   "outputs": [
    {
     "name": "stderr",
     "output_type": "stream",
     "text": [
      "/usr/local/lib/python3.8/dist-packages/sklearn/preprocessing/_label.py:98: DataConversionWarning: A column-vector y was passed when a 1d array was expected. Please change the shape of y to (n_samples, ), for example using ravel().\n",
      "  y = column_or_1d(y, warn=True)\n",
      "/usr/local/lib/python3.8/dist-packages/sklearn/preprocessing/_label.py:133: DataConversionWarning: A column-vector y was passed when a 1d array was expected. Please change the shape of y to (n_samples, ), for example using ravel().\n",
      "  y = column_or_1d(y, warn=True)\n"
     ]
    },
    {
     "name": "stdout",
     "output_type": "stream",
     "text": [
      "Report = \n",
      "               precision    recall  f1-score   support\n",
      "\n",
      "         0.0       1.00      1.00      1.00     56879\n",
      "         1.0       0.84      0.94      0.89        83\n",
      "\n",
      "    accuracy                           1.00     56962\n",
      "   macro avg       0.92      0.97      0.94     56962\n",
      "weighted avg       1.00      1.00      1.00     56962\n",
      "\n"
     ]
    }
   ],
   "source": [
    "from lightgbm import LGBMClassifier\n",
    "\n",
    "lgbm_clf = LGBMClassifier(n_estimators=400, num_leaves=64, boost_from_average=False, lambda_l2=1)\n",
    "lgbm_clf.fit(x_train, y_train,eval_metric='logloss')\n",
    "\n",
    "lgbm_pred = tf.cast(lgbm_clf.predict(x_test)>0.5, dtype=tf.float32)\n",
    "print(\"Report = \\n\", classification_report(lgbm_pred, y_test))"
   ]
  },
  {
   "cell_type": "markdown",
   "id": "vYhGNGOXHEQX",
   "metadata": {
    "id": "vYhGNGOXHEQX"
   },
   "source": [
    "```\n",
    "두 모델 모두 같이 n_estimator를 400, 기본 평가지표는 logloss, L2(Ridge)정규화 옵션을 지정 후 학습시킨 결과\n",
    "LightGBM이 XGBoost보다 학습시간은 훨씬 적게 걸렸으나, 성능면에서는 큰 차이가 없음을 알 수 있습니다. \n",
    "```"
   ]
  },
  {
   "cell_type": "markdown",
   "id": "q0rmwmon-PBt",
   "metadata": {
    "id": "q0rmwmon-PBt"
   },
   "source": [
    "# Test Visualization"
   ]
  },
  {
   "cell_type": "code",
   "execution_count": null,
   "id": "HQsjIgr9C9JY",
   "metadata": {
    "colab": {
     "base_uri": "https://localhost:8080/"
    },
    "executionInfo": {
     "elapsed": 971,
     "status": "ok",
     "timestamp": 1675232505009,
     "user": {
      "displayName": "jeff Son",
      "userId": "18063717104973062769"
     },
     "user_tz": -540
    },
    "id": "HQsjIgr9C9JY",
    "outputId": "f8128253-9de7-48d6-881a-7133a9f2b78c"
   },
   "outputs": [
    {
     "name": "stderr",
     "output_type": "stream",
     "text": [
      "/usr/local/lib/python3.8/dist-packages/sklearn/metrics/_classification.py:1318: UndefinedMetricWarning: Recall is ill-defined and being set to 0.0 due to no true samples. Use `zero_division` parameter to control this behavior.\n",
      "  _warn_prf(average, modifier, msg_start, len(result))\n"
     ]
    }
   ],
   "source": [
    "recall_dic={}\n",
    "recall_dic['Logistic'] = {'score': recall_score(predicted_x, y_data)}\n",
    "recall_dic['ANN'] = {'score': recall_score(predicted_ANN, y_test)}\n",
    "recall_dic['RandomForest'] = {'score': recall_score(rf_pred, y_test)}\n",
    "recall_dic['XGBoost'] = {'score': recall_score(xg_pred, y_test)}\n",
    "recall_dic['LGBM'] = {'score': recall_score(lgbm_pred, y_test)} \n",
    "\n",
    "f1_dic={}\n",
    "f1_dic['Logistic'] = {'score': f1_score(predicted_x, y_data)}\n",
    "f1_dic['ANN'] = {'score': f1_score(predicted_ANN, y_test)}\n",
    "f1_dic['RandomForest'] = {'score': f1_score(rf_pred, y_test)}\n",
    "f1_dic['XGBoost'] = {'score': f1_score(xg_pred, y_test)}\n",
    "f1_dic['LGBM'] = {'score': f1_score(lgbm_pred, y_test)} "
   ]
  },
  {
   "cell_type": "code",
   "execution_count": null,
   "id": "Nfu8R8nPgPTJ",
   "metadata": {
    "colab": {
     "base_uri": "https://localhost:8080/",
     "height": 781
    },
    "executionInfo": {
     "elapsed": 902,
     "status": "ok",
     "timestamp": 1675232524806,
     "user": {
      "displayName": "jeff Son",
      "userId": "18063717104973062769"
     },
     "user_tz": -540
    },
    "id": "Nfu8R8nPgPTJ",
    "outputId": "0ee4625f-bb97-4d17-9fae-ab044f59a13a"
   },
   "outputs": [
    {
     "data": {
      "text/plain": [
       "Text(0.5, 1.0, 'F1 score')"
      ]
     },
     "execution_count": 97,
     "metadata": {},
     "output_type": "execute_result"
    },
    {
     "data": {
      "image/png": "[encoded data removed]",
      "text/plain": [
       "<Figure size 936x432 with 1 Axes>"
      ]
     },
     "metadata": {
      "needs_background": "light"
     },
     "output_type": "display_data"
    },
    {
     "data": {
      "image/png": "[encoded data removed]",
      "text/plain": [
       "<Figure size 936x432 with 1 Axes>"
      ]
     },
     "metadata": {
      "needs_background": "light"
     },
     "output_type": "display_data"
    }
   ],
   "source": [
    "recall_dic=pd.DataFrame(recall_dic)\n",
    "f1_dic=pd.DataFrame(f1_dic)\n",
    "\n",
    "recall_dic.plot(kind='barh', figsize=(13,6))\n",
    "plt.title('Recall score')\n",
    "\n",
    "f1_dic.plot(kind='barh', figsize=(13,6))\n",
    "plt.title('F1 score')\n"
   ]
  },
  {
   "cell_type": "markdown",
   "id": "M2BA5JayIz34",
   "metadata": {
    "id": "M2BA5JayIz34"
   },
   "source": [
    "```\n",
    "Recall 측면에서는 ANN > RandomForest > XGBoost > LGBM > Log ,\n",
    "f1-score 측면에서는 XGBoost >= LGBM > RandomForest > ANN > Log 순으로 성능이 좋음을을 확인할 수 있습니다. \n",
    "```"
   ]
  },
  {
   "cell_type": "markdown",
   "id": "Gvtsy48N-anJ",
   "metadata": {
    "id": "Gvtsy48N-anJ"
   },
   "source": [
    "# OverSampling\n",
    "```\n",
    "해당 데이터셋은 매우 imbalance한 데이터이므로 resampling을 시도해볼 필요가 있다고 판단됩니다. \n",
    "\n",
    "Fraud를 의미하는 class 1은 전체 데이터에 0.17%밖에 안되므로 \n",
    "UnderSampling을 하기엔 너무 많은 정보 손실을 가져올 것 같아 OverSampling을 진행합니다.\n",
    "\n",
    "가장 기본적인 방법인 Random over sampling 과 가장 보편적으로 쓰이는 SMOTE를 사용했습니다. \n",
    "```"
   ]
  },
  {
   "cell_type": "markdown",
   "id": "oFfBTO-A-fVL",
   "metadata": {
    "id": "oFfBTO-A-fVL"
   },
   "source": [
    "## SMOTE"
   ]
  },
  {
   "cell_type": "code",
   "execution_count": null,
   "id": "9k7BXcOAp09o",
   "metadata": {
    "colab": {
     "base_uri": "https://localhost:8080/"
    },
    "executionInfo": {
     "elapsed": 322,
     "status": "ok",
     "timestamp": 1675234246709,
     "user": {
      "displayName": "jeff Son",
      "userId": "18063717104973062769"
     },
     "user_tz": -540
    },
    "id": "9k7BXcOAp09o",
    "outputId": "cb2af488-1fe5-444d-9128-d620b4c694cf"
   },
   "outputs": [
    {
     "name": "stdout",
     "output_type": "stream",
     "text": [
      "(227845, 29) (227845, 1)\n",
      "(454892, 29) (454892,)\n"
     ]
    }
   ],
   "source": [
    "from imblearn.over_sampling import SMOTE \n",
    "\n",
    "smote = SMOTE(random_state=22)\n",
    "x_train_over, y_train_over = smote.fit_resample(x_train, y_train)\n",
    "\n",
    "print(x_train.shape, y_train.shape)\n",
    "print(x_train_over.shape, y_train_over.shape)\n"
   ]
  },
  {
   "cell_type": "markdown",
   "id": "qO_vWLCg-k7u",
   "metadata": {
    "id": "qO_vWLCg-k7u"
   },
   "source": [
    "### Training & Performance "
   ]
  },
  {
   "cell_type": "code",
   "execution_count": null,
   "id": "ujVS3tb4rqH4",
   "metadata": {
    "colab": {
     "base_uri": "https://localhost:8080/"
    },
    "executionInfo": {
     "elapsed": 1939917,
     "status": "ok",
     "timestamp": 1675236532122,
     "user": {
      "displayName": "jeff Son",
      "userId": "18063717104973062769"
     },
     "user_tz": -540
    },
    "id": "ujVS3tb4rqH4",
    "outputId": "d75a4974-6c7f-4665-f5b1-c58f8c7ffd2e"
   },
   "outputs": [
    {
     "name": "stdout",
     "output_type": "stream",
     "text": [
      "Report = \n",
      "               precision    recall  f1-score   support\n",
      "\n",
      "         0.0       1.00      1.00      1.00     56868\n",
      "         1.0       0.86      0.85      0.86        94\n",
      "\n",
      "    accuracy                           1.00     56962\n",
      "   macro avg       0.93      0.93      0.93     56962\n",
      "weighted avg       1.00      1.00      1.00     56962\n",
      "\n",
      "Report = \n",
      "               precision    recall  f1-score   support\n",
      "\n",
      "         0.0       1.00      1.00      1.00     56676\n",
      "         1.0       0.90      0.29      0.44       286\n",
      "\n",
      "    accuracy                           1.00     56962\n",
      "   macro avg       0.95      0.65      0.72     56962\n",
      "weighted avg       1.00      1.00      1.00     56962\n",
      "\n",
      "Report = \n",
      "               precision    recall  f1-score   support\n",
      "\n",
      "         0.0       1.00      1.00      1.00     56866\n",
      "         1.0       0.88      0.85      0.87        96\n",
      "\n",
      "    accuracy                           1.00     56962\n",
      "   macro avg       0.94      0.93      0.93     56962\n",
      "weighted avg       1.00      1.00      1.00     56962\n",
      "\n"
     ]
    }
   ],
   "source": [
    "# RandomForest\n",
    "from sklearn.ensemble import RandomForestClassifier\n",
    "\n",
    "rf_clf = RandomForestClassifier(random_state=22, n_estimators=300, verbose=0)       \n",
    "rf_clf.fit(x_train_over, y_train_over)\n",
    "\n",
    "rf_pred_over= tf.cast(rf_clf.predict(x_test) > 0.5, dtype = tf.float32)\n",
    "print(\"Report = \\n\", classification_report(rf_pred_over, y_test))\n",
    "\n",
    "\n",
    "#XGBoost\n",
    "from xgboost import XGBClassifier\n",
    "\n",
    "xgboost_clf = XGBClassifier(randon_state=22, n_estimators=400, reg_lambda=1)\n",
    "xgboost_clf.fit(x_train_over, y_train_over, eval_metric='logloss')\n",
    "\n",
    "xg_pred_over = tf.cast( xgboost_clf.predict(x_test) > 0.5, dtype = tf.float32)\n",
    "print(\"Report = \\n\", classification_report(xg_pred_over, y_test))     \n",
    "\n",
    "\n",
    "#LightGBM\n",
    "from lightgbm import LGBMClassifier\n",
    "\n",
    "lgbm_clf = LGBMClassifier(n_estimators=400, num_leaves=64, boost_from_average=False, lambda_l2=1)\n",
    "lgbm_clf.fit(x_train_over, y_train_over,eval_metric='logloss')\n",
    "\n",
    "lgbm_pred_over = tf.cast(lgbm_clf.predict(x_test)>0.5, dtype=tf.float32)\n",
    "print(\"Report = \\n\", classification_report(lgbm_pred_over, y_test))"
   ]
  },
  {
   "cell_type": "markdown",
   "id": "S-8ACmuJ_DK5",
   "metadata": {
    "id": "S-8ACmuJ_DK5"
   },
   "source": [
    "## RandomOverSampling"
   ]
  },
  {
   "cell_type": "code",
   "execution_count": null,
   "id": "inxrCEPOrNai",
   "metadata": {
    "id": "inxrCEPOrNai"
   },
   "outputs": [],
   "source": [
    "from imblearn.over_sampling import RandomOverSampler\n",
    "\n",
    "ros = RandomOverSampler(random_state=22)\n",
    "x_train_r, y_train_r = ros.fit_resample(x_train, y_train)"
   ]
  },
  {
   "cell_type": "markdown",
   "id": "FgcaZeTk_IeZ",
   "metadata": {
    "id": "FgcaZeTk_IeZ"
   },
   "source": [
    "### Training & Performance "
   ]
  },
  {
   "cell_type": "code",
   "execution_count": null,
   "id": "zaLs7MurwfYV",
   "metadata": {
    "colab": {
     "base_uri": "https://localhost:8080/"
    },
    "executionInfo": {
     "elapsed": 1112432,
     "status": "ok",
     "timestamp": 1675237644550,
     "user": {
      "displayName": "jeff Son",
      "userId": "18063717104973062769"
     },
     "user_tz": -540
    },
    "id": "zaLs7MurwfYV",
    "outputId": "6194011d-7e6f-4179-90dd-e10eae885b3c"
   },
   "outputs": [
    {
     "name": "stdout",
     "output_type": "stream",
     "text": [
      "Report = \n",
      "               precision    recall  f1-score   support\n",
      "\n",
      "         0.0       1.00      1.00      1.00     56881\n",
      "         1.0       0.82      0.94      0.87        81\n",
      "\n",
      "    accuracy                           1.00     56962\n",
      "   macro avg       0.91      0.97      0.94     56962\n",
      "weighted avg       1.00      1.00      1.00     56962\n",
      "\n",
      "Report = \n",
      "               precision    recall  f1-score   support\n",
      "\n",
      "         0.0       1.00      1.00      1.00     56842\n",
      "         1.0       0.89      0.69      0.78       120\n",
      "\n",
      "    accuracy                           1.00     56962\n",
      "   macro avg       0.95      0.85      0.89     56962\n",
      "weighted avg       1.00      1.00      1.00     56962\n",
      "\n",
      "Report = \n",
      "               precision    recall  f1-score   support\n",
      "\n",
      "         0.0       1.00      1.00      1.00     56874\n",
      "         1.0       0.87      0.92      0.90        88\n",
      "\n",
      "    accuracy                           1.00     56962\n",
      "   macro avg       0.94      0.96      0.95     56962\n",
      "weighted avg       1.00      1.00      1.00     56962\n",
      "\n"
     ]
    }
   ],
   "source": [
    "# RandomForest\n",
    "from sklearn.ensemble import RandomForestClassifier\n",
    "\n",
    "rf_clf = RandomForestClassifier(random_state=22, n_estimators=300, verbose=0)       \n",
    "rf_clf.fit(x_train_r, y_train_r)\n",
    "\n",
    "rf_pred_r= tf.cast(rf_clf.predict(x_test) > 0.5, dtype = tf.float32)\n",
    "print(\"Report = \\n\", classification_report(rf_pred_r, y_test))\n",
    "\n",
    "\n",
    "#XGBoost\n",
    "from xgboost import XGBClassifier\n",
    "\n",
    "xgboost_clf = XGBClassifier(randon_state=22, n_estimators=400, reg_lambda=1)\n",
    "xgboost_clf.fit(x_train_r, y_train_r, eval_metric='logloss')\n",
    "\n",
    "xg_pred_r = tf.cast( xgboost_clf.predict(x_test) > 0.5, dtype = tf.float32)\n",
    "print(\"Report = \\n\", classification_report(xg_pred_r, y_test))     \n",
    "\n",
    "\n",
    "#LightGBM\n",
    "from lightgbm import LGBMClassifier\n",
    "\n",
    "lgbm_clf = LGBMClassifier(n_estimators=400, num_leaves=64, boost_from_average=False, lambda_l2=1)\n",
    "lgbm_clf.fit(x_train_r, y_train_r,eval_metric='logloss')\n",
    "\n",
    "lgbm_pred_r = tf.cast(lgbm_clf.predict(x_test)>0.5, dtype=tf.float32)\n",
    "print(\"Report = \\n\", classification_report(lgbm_pred_r, y_test))"
   ]
  },
  {
   "cell_type": "markdown",
   "id": "hd9l4q4N_PFZ",
   "metadata": {
    "id": "hd9l4q4N_PFZ"
   },
   "source": [
    "# Conclusion"
   ]
  },
  {
   "cell_type": "markdown",
   "id": "s3c7s5FLOh1i",
   "metadata": {
    "id": "s3c7s5FLOh1i"
   },
   "source": [
    "|     |      |  Precision  | Recall | F1-score |\n",
    "|:---:|:---:|:---:|:---:|:---:|\n",
    "| 기본 |RandomForest| 0.82 | 0.96| 0.88 |\n",
    "|  |XGBoost| 0.84 | 0.95| 0.89 |\n",
    "|  |LighGBM| 0.84 | 0.94| 0.89 |\n",
    "| SMOTE |RandomForest| 0.86 | 0.85| 0.86 |\n",
    "|  |XGBoost| 0.90 | 0.29| 0.44 |\n",
    "|  |LighGBM| 0.88 | 0.85| 0.87 |\n",
    "| Random |RandomForest| 0.82 | 0.94| 0.87 |\n",
    "|  |XGBoost| 0.89 | 0.69| 0.78 |\n",
    "|  |LighGBM| 0.87 | 0.92| 0.90 |\n",
    "\n",
    "\n",
    "```\n",
    "두 가지의 방법으로 Oversampling을 해본 결과, oversampling을 하기 전에 비해 Precision 값은 올랐으나, \n",
    "정작 제가 중점으로 둔 Recall과 F1-score 값은 하락했음을 확인할 수 있습니다.\n",
    "\n",
    "이와 같은 이유로 저의 프로젝트에서는 Resampling을 하지 않은 ANN이나 XGBoost 모델이 가장 성능이 우수했다고 말할 수 있습니다.\n",
    "```"
   ]
  }
 ],
 "metadata": {
  "colab": {
   "provenance": [
    {
     "file_id": "13cZzDadCY9jVAoxxmak1PSTkKQ9hIO5e",
     "timestamp": 1675243133829
    },
    {
     "file_id": "1lfZwKZ_nx87ajTyuWCbTbGzsdJuCv7Jg",
     "timestamp": 1675185237955
    },
    {
     "file_id": "1zMhKQmgczELidDOFFvA2-GxjmFeRHksQ",
     "timestamp": 1675178505570
    }
   ],
   "toc_visible": true
  },
  "gpuClass": "standard",
  "kernelspec": {
   "display_name": "Python 3 (ipykernel)",
   "language": "python",
   "name": "python3"
  },
  "language_info": {
   "codemirror_mode": {
    "name": "ipython",
    "version": 3
   },
   "file_extension": ".py",
   "mimetype": "text/x-python",
   "name": "python",
   "nbconvert_exporter": "python",
   "pygments_lexer": "ipython3",
   "version": "3.9.13"
  },
  "toc": {
   "base_numbering": 1,
   "nav_menu": {},
   "number_sections": true,
   "sideBar": true,
   "skip_h1_title": false,
   "title_cell": "Table of Contents",
   "title_sidebar": "Contents",
   "toc_cell": false,
   "toc_position": {
    "height": "calc(100% - 180px)",
    "left": "10px",
    "top": "150px",
    "width": "252.431px"
   },
   "toc_section_display": true,
   "toc_window_display": true
  }
 },
 "nbformat": 4,
 "nbformat_minor": 5
}
